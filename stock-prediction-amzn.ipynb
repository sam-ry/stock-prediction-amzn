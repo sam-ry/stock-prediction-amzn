{
 "cells": [
  {
   "cell_type": "code",
   "execution_count": 1,
   "id": "9f74b248",
   "metadata": {
    "execution": {
     "iopub.execute_input": "2025-05-17T17:48:38.462449Z",
     "iopub.status.busy": "2025-05-17T17:48:38.462080Z",
     "iopub.status.idle": "2025-05-17T17:48:40.454222Z",
     "shell.execute_reply": "2025-05-17T17:48:40.453251Z"
    },
    "papermill": {
     "duration": 2.005324,
     "end_time": "2025-05-17T17:48:40.456066",
     "exception": false,
     "start_time": "2025-05-17T17:48:38.450742",
     "status": "completed"
    },
    "tags": []
   },
   "outputs": [],
   "source": [
    "import pandas as pd"
   ]
  },
  {
   "cell_type": "code",
   "execution_count": 2,
   "id": "9c86c5ee",
   "metadata": {
    "execution": {
     "iopub.execute_input": "2025-05-17T17:48:40.478293Z",
     "iopub.status.busy": "2025-05-17T17:48:40.477165Z",
     "iopub.status.idle": "2025-05-17T17:48:40.629138Z",
     "shell.execute_reply": "2025-05-17T17:48:40.627965Z"
    },
    "papermill": {
     "duration": 0.165658,
     "end_time": "2025-05-17T17:48:40.630863",
     "exception": false,
     "start_time": "2025-05-17T17:48:40.465205",
     "status": "completed"
    },
    "tags": []
   },
   "outputs": [
    {
     "data": {
      "text/html": [
       "<div>\n",
       "<style scoped>\n",
       "    .dataframe tbody tr th:only-of-type {\n",
       "        vertical-align: middle;\n",
       "    }\n",
       "\n",
       "    .dataframe tbody tr th {\n",
       "        vertical-align: top;\n",
       "    }\n",
       "\n",
       "    .dataframe thead th {\n",
       "        text-align: right;\n",
       "    }\n",
       "</style>\n",
       "<table border=\"1\" class=\"dataframe\">\n",
       "  <thead>\n",
       "    <tr style=\"text-align: right;\">\n",
       "      <th></th>\n",
       "      <th>Date</th>\n",
       "      <th>Open</th>\n",
       "      <th>High</th>\n",
       "      <th>Low</th>\n",
       "      <th>Close</th>\n",
       "      <th>Volume</th>\n",
       "      <th>Dividends</th>\n",
       "      <th>Stock Splits</th>\n",
       "    </tr>\n",
       "  </thead>\n",
       "  <tbody>\n",
       "    <tr>\n",
       "      <th>0</th>\n",
       "      <td>1997-05-15 00:00:00-04:00</td>\n",
       "      <td>0.121875</td>\n",
       "      <td>0.125000</td>\n",
       "      <td>0.096354</td>\n",
       "      <td>0.097917</td>\n",
       "      <td>1443120000</td>\n",
       "      <td>0.0</td>\n",
       "      <td>0.0</td>\n",
       "    </tr>\n",
       "    <tr>\n",
       "      <th>1</th>\n",
       "      <td>1997-05-16 00:00:00-04:00</td>\n",
       "      <td>0.098438</td>\n",
       "      <td>0.098958</td>\n",
       "      <td>0.085417</td>\n",
       "      <td>0.086458</td>\n",
       "      <td>294000000</td>\n",
       "      <td>0.0</td>\n",
       "      <td>0.0</td>\n",
       "    </tr>\n",
       "    <tr>\n",
       "      <th>2</th>\n",
       "      <td>1997-05-19 00:00:00-04:00</td>\n",
       "      <td>0.088021</td>\n",
       "      <td>0.088542</td>\n",
       "      <td>0.081250</td>\n",
       "      <td>0.085417</td>\n",
       "      <td>122136000</td>\n",
       "      <td>0.0</td>\n",
       "      <td>0.0</td>\n",
       "    </tr>\n",
       "    <tr>\n",
       "      <th>3</th>\n",
       "      <td>1997-05-20 00:00:00-04:00</td>\n",
       "      <td>0.086458</td>\n",
       "      <td>0.087500</td>\n",
       "      <td>0.081771</td>\n",
       "      <td>0.081771</td>\n",
       "      <td>109344000</td>\n",
       "      <td>0.0</td>\n",
       "      <td>0.0</td>\n",
       "    </tr>\n",
       "    <tr>\n",
       "      <th>4</th>\n",
       "      <td>1997-05-21 00:00:00-04:00</td>\n",
       "      <td>0.081771</td>\n",
       "      <td>0.082292</td>\n",
       "      <td>0.068750</td>\n",
       "      <td>0.071354</td>\n",
       "      <td>377064000</td>\n",
       "      <td>0.0</td>\n",
       "      <td>0.0</td>\n",
       "    </tr>\n",
       "  </tbody>\n",
       "</table>\n",
       "</div>"
      ],
      "text/plain": [
       "                        Date      Open      High       Low     Close  \\\n",
       "0  1997-05-15 00:00:00-04:00  0.121875  0.125000  0.096354  0.097917   \n",
       "1  1997-05-16 00:00:00-04:00  0.098438  0.098958  0.085417  0.086458   \n",
       "2  1997-05-19 00:00:00-04:00  0.088021  0.088542  0.081250  0.085417   \n",
       "3  1997-05-20 00:00:00-04:00  0.086458  0.087500  0.081771  0.081771   \n",
       "4  1997-05-21 00:00:00-04:00  0.081771  0.082292  0.068750  0.071354   \n",
       "\n",
       "       Volume  Dividends  Stock Splits  \n",
       "0  1443120000        0.0           0.0  \n",
       "1   294000000        0.0           0.0  \n",
       "2   122136000        0.0           0.0  \n",
       "3   109344000        0.0           0.0  \n",
       "4   377064000        0.0           0.0  "
      ]
     },
     "execution_count": 2,
     "metadata": {},
     "output_type": "execute_result"
    }
   ],
   "source": [
    "df = pd.read_csv('/kaggle/input/amazon-stocks-2025/AMZN_stock_data.csv')\n",
    "data = df.copy()\n",
    "data.head()"
   ]
  },
  {
   "cell_type": "code",
   "execution_count": 3,
   "id": "5b60e991",
   "metadata": {
    "execution": {
     "iopub.execute_input": "2025-05-17T17:48:40.650279Z",
     "iopub.status.busy": "2025-05-17T17:48:40.649886Z",
     "iopub.status.idle": "2025-05-17T17:48:40.668686Z",
     "shell.execute_reply": "2025-05-17T17:48:40.667624Z"
    },
    "papermill": {
     "duration": 0.030321,
     "end_time": "2025-05-17T17:48:40.670284",
     "exception": false,
     "start_time": "2025-05-17T17:48:40.639963",
     "status": "completed"
    },
    "tags": []
   },
   "outputs": [
    {
     "name": "stdout",
     "output_type": "stream",
     "text": [
      "(6987, 8)\n"
     ]
    },
    {
     "data": {
      "text/html": [
       "<div>\n",
       "<style scoped>\n",
       "    .dataframe tbody tr th:only-of-type {\n",
       "        vertical-align: middle;\n",
       "    }\n",
       "\n",
       "    .dataframe tbody tr th {\n",
       "        vertical-align: top;\n",
       "    }\n",
       "\n",
       "    .dataframe thead th {\n",
       "        text-align: right;\n",
       "    }\n",
       "</style>\n",
       "<table border=\"1\" class=\"dataframe\">\n",
       "  <thead>\n",
       "    <tr style=\"text-align: right;\">\n",
       "      <th></th>\n",
       "      <th>Date</th>\n",
       "      <th>Open</th>\n",
       "      <th>High</th>\n",
       "      <th>Low</th>\n",
       "      <th>Close</th>\n",
       "      <th>Volume</th>\n",
       "      <th>Dividends</th>\n",
       "      <th>Stock Splits</th>\n",
       "    </tr>\n",
       "  </thead>\n",
       "  <tbody>\n",
       "    <tr>\n",
       "      <th>6982</th>\n",
       "      <td>2025-02-14 00:00:00-05:00</td>\n",
       "      <td>229.199997</td>\n",
       "      <td>229.889999</td>\n",
       "      <td>227.229996</td>\n",
       "      <td>228.679993</td>\n",
       "      <td>27031100</td>\n",
       "      <td>0.0</td>\n",
       "      <td>0.0</td>\n",
       "    </tr>\n",
       "    <tr>\n",
       "      <th>6983</th>\n",
       "      <td>2025-02-18 00:00:00-05:00</td>\n",
       "      <td>228.820007</td>\n",
       "      <td>229.300003</td>\n",
       "      <td>223.720001</td>\n",
       "      <td>226.649994</td>\n",
       "      <td>42975100</td>\n",
       "      <td>0.0</td>\n",
       "      <td>0.0</td>\n",
       "    </tr>\n",
       "    <tr>\n",
       "      <th>6984</th>\n",
       "      <td>2025-02-19 00:00:00-05:00</td>\n",
       "      <td>225.520004</td>\n",
       "      <td>226.830002</td>\n",
       "      <td>223.710007</td>\n",
       "      <td>226.630005</td>\n",
       "      <td>28566700</td>\n",
       "      <td>0.0</td>\n",
       "      <td>0.0</td>\n",
       "    </tr>\n",
       "    <tr>\n",
       "      <th>6985</th>\n",
       "      <td>2025-02-20 00:00:00-05:00</td>\n",
       "      <td>224.779999</td>\n",
       "      <td>225.130005</td>\n",
       "      <td>221.809998</td>\n",
       "      <td>222.880005</td>\n",
       "      <td>30001700</td>\n",
       "      <td>0.0</td>\n",
       "      <td>0.0</td>\n",
       "    </tr>\n",
       "    <tr>\n",
       "      <th>6986</th>\n",
       "      <td>2025-02-21 00:00:00-05:00</td>\n",
       "      <td>223.279999</td>\n",
       "      <td>223.309998</td>\n",
       "      <td>214.740005</td>\n",
       "      <td>216.580002</td>\n",
       "      <td>55161000</td>\n",
       "      <td>0.0</td>\n",
       "      <td>0.0</td>\n",
       "    </tr>\n",
       "  </tbody>\n",
       "</table>\n",
       "</div>"
      ],
      "text/plain": [
       "                           Date        Open        High         Low  \\\n",
       "6982  2025-02-14 00:00:00-05:00  229.199997  229.889999  227.229996   \n",
       "6983  2025-02-18 00:00:00-05:00  228.820007  229.300003  223.720001   \n",
       "6984  2025-02-19 00:00:00-05:00  225.520004  226.830002  223.710007   \n",
       "6985  2025-02-20 00:00:00-05:00  224.779999  225.130005  221.809998   \n",
       "6986  2025-02-21 00:00:00-05:00  223.279999  223.309998  214.740005   \n",
       "\n",
       "           Close    Volume  Dividends  Stock Splits  \n",
       "6982  228.679993  27031100        0.0           0.0  \n",
       "6983  226.649994  42975100        0.0           0.0  \n",
       "6984  226.630005  28566700        0.0           0.0  \n",
       "6985  222.880005  30001700        0.0           0.0  \n",
       "6986  216.580002  55161000        0.0           0.0  "
      ]
     },
     "execution_count": 3,
     "metadata": {},
     "output_type": "execute_result"
    }
   ],
   "source": [
    "print(data.shape)\n",
    "data.tail()"
   ]
  },
  {
   "cell_type": "code",
   "execution_count": 4,
   "id": "ff8b4e30",
   "metadata": {
    "execution": {
     "iopub.execute_input": "2025-05-17T17:48:40.689858Z",
     "iopub.status.busy": "2025-05-17T17:48:40.689436Z",
     "iopub.status.idle": "2025-05-17T17:48:41.220374Z",
     "shell.execute_reply": "2025-05-17T17:48:41.219341Z"
    },
    "papermill": {
     "duration": 0.543014,
     "end_time": "2025-05-17T17:48:41.222003",
     "exception": false,
     "start_time": "2025-05-17T17:48:40.678989",
     "status": "completed"
    },
    "tags": []
   },
   "outputs": [
    {
     "data": {
      "text/plain": [
       "<Axes: >"
      ]
     },
     "execution_count": 4,
     "metadata": {},
     "output_type": "execute_result"
    },
    {
     "data": {
      "image/png": "[encoded data removed]",
      "text/plain": [
       "<Figure size 640x480 with 1 Axes>"
      ]
     },
     "metadata": {},
     "output_type": "display_data"
    }
   ],
   "source": [
    "df.Close.plot()"
   ]
  },
  {
   "cell_type": "code",
   "execution_count": 5,
   "id": "aa7c8bd9",
   "metadata": {
    "execution": {
     "iopub.execute_input": "2025-05-17T17:48:41.241997Z",
     "iopub.status.busy": "2025-05-17T17:48:41.241632Z",
     "iopub.status.idle": "2025-05-17T17:48:41.266801Z",
     "shell.execute_reply": "2025-05-17T17:48:41.265455Z"
    },
    "papermill": {
     "duration": 0.036519,
     "end_time": "2025-05-17T17:48:41.268331",
     "exception": false,
     "start_time": "2025-05-17T17:48:41.231812",
     "status": "completed"
    },
    "tags": []
   },
   "outputs": [
    {
     "name": "stdout",
     "output_type": "stream",
     "text": [
      "<class 'pandas.core.frame.DataFrame'>\n",
      "RangeIndex: 6987 entries, 0 to 6986\n",
      "Data columns (total 8 columns):\n",
      " #   Column        Non-Null Count  Dtype  \n",
      "---  ------        --------------  -----  \n",
      " 0   Date          6987 non-null   object \n",
      " 1   Open          6987 non-null   float64\n",
      " 2   High          6987 non-null   float64\n",
      " 3   Low           6987 non-null   float64\n",
      " 4   Close         6987 non-null   float64\n",
      " 5   Volume        6987 non-null   int64  \n",
      " 6   Dividends     6987 non-null   float64\n",
      " 7   Stock Splits  6987 non-null   float64\n",
      "dtypes: float64(6), int64(1), object(1)\n",
      "memory usage: 436.8+ KB\n"
     ]
    }
   ],
   "source": [
    "data.info()"
   ]
  },
  {
   "cell_type": "code",
   "execution_count": 6,
   "id": "20e08b59",
   "metadata": {
    "execution": {
     "iopub.execute_input": "2025-05-17T17:48:41.289794Z",
     "iopub.status.busy": "2025-05-17T17:48:41.289479Z",
     "iopub.status.idle": "2025-05-17T17:48:41.353309Z",
     "shell.execute_reply": "2025-05-17T17:48:41.352155Z"
    },
    "papermill": {
     "duration": 0.076182,
     "end_time": "2025-05-17T17:48:41.354859",
     "exception": false,
     "start_time": "2025-05-17T17:48:41.278677",
     "status": "completed"
    },
    "tags": []
   },
   "outputs": [
    {
     "name": "stdout",
     "output_type": "stream",
     "text": [
      "<class 'pandas.core.frame.DataFrame'>\n",
      "RangeIndex: 6987 entries, 0 to 6986\n",
      "Data columns (total 8 columns):\n",
      " #   Column        Non-Null Count  Dtype              \n",
      "---  ------        --------------  -----              \n",
      " 0   Date          6987 non-null   datetime64[ns, UTC]\n",
      " 1   Open          6987 non-null   float64            \n",
      " 2   High          6987 non-null   float64            \n",
      " 3   Low           6987 non-null   float64            \n",
      " 4   Close         6987 non-null   float64            \n",
      " 5   Volume        6987 non-null   int64              \n",
      " 6   Dividends     6987 non-null   float64            \n",
      " 7   Stock Splits  6987 non-null   float64            \n",
      "dtypes: datetime64[ns, UTC](1), float64(6), int64(1)\n",
      "memory usage: 436.8 KB\n"
     ]
    }
   ],
   "source": [
    "data['Date'] = pd.to_datetime(data['Date'], utc=True, errors='coerce')\n",
    "data.info()"
   ]
  },
  {
   "cell_type": "code",
   "execution_count": 7,
   "id": "b90b8b51",
   "metadata": {
    "execution": {
     "iopub.execute_input": "2025-05-17T17:48:41.374770Z",
     "iopub.status.busy": "2025-05-17T17:48:41.374400Z",
     "iopub.status.idle": "2025-05-17T17:48:41.401852Z",
     "shell.execute_reply": "2025-05-17T17:48:41.400987Z"
    },
    "papermill": {
     "duration": 0.039443,
     "end_time": "2025-05-17T17:48:41.403520",
     "exception": false,
     "start_time": "2025-05-17T17:48:41.364077",
     "status": "completed"
    },
    "tags": []
   },
   "outputs": [
    {
     "data": {
      "text/html": [
       "<div>\n",
       "<style scoped>\n",
       "    .dataframe tbody tr th:only-of-type {\n",
       "        vertical-align: middle;\n",
       "    }\n",
       "\n",
       "    .dataframe tbody tr th {\n",
       "        vertical-align: top;\n",
       "    }\n",
       "\n",
       "    .dataframe thead th {\n",
       "        text-align: right;\n",
       "    }\n",
       "</style>\n",
       "<table border=\"1\" class=\"dataframe\">\n",
       "  <thead>\n",
       "    <tr style=\"text-align: right;\">\n",
       "      <th></th>\n",
       "      <th>Date</th>\n",
       "      <th>Open</th>\n",
       "      <th>High</th>\n",
       "      <th>Low</th>\n",
       "      <th>Close</th>\n",
       "      <th>Volume</th>\n",
       "      <th>Dividends</th>\n",
       "      <th>Stock Splits</th>\n",
       "      <th>ndate</th>\n",
       "      <th>time</th>\n",
       "    </tr>\n",
       "  </thead>\n",
       "  <tbody>\n",
       "    <tr>\n",
       "      <th>0</th>\n",
       "      <td>1997-05-15 04:00:00+00:00</td>\n",
       "      <td>0.121875</td>\n",
       "      <td>0.125000</td>\n",
       "      <td>0.096354</td>\n",
       "      <td>0.097917</td>\n",
       "      <td>1443120000</td>\n",
       "      <td>0.0</td>\n",
       "      <td>0.0</td>\n",
       "      <td>1997-05-15</td>\n",
       "      <td>04:00:00</td>\n",
       "    </tr>\n",
       "    <tr>\n",
       "      <th>1</th>\n",
       "      <td>1997-05-16 04:00:00+00:00</td>\n",
       "      <td>0.098438</td>\n",
       "      <td>0.098958</td>\n",
       "      <td>0.085417</td>\n",
       "      <td>0.086458</td>\n",
       "      <td>294000000</td>\n",
       "      <td>0.0</td>\n",
       "      <td>0.0</td>\n",
       "      <td>1997-05-16</td>\n",
       "      <td>04:00:00</td>\n",
       "    </tr>\n",
       "    <tr>\n",
       "      <th>2</th>\n",
       "      <td>1997-05-19 04:00:00+00:00</td>\n",
       "      <td>0.088021</td>\n",
       "      <td>0.088542</td>\n",
       "      <td>0.081250</td>\n",
       "      <td>0.085417</td>\n",
       "      <td>122136000</td>\n",
       "      <td>0.0</td>\n",
       "      <td>0.0</td>\n",
       "      <td>1997-05-19</td>\n",
       "      <td>04:00:00</td>\n",
       "    </tr>\n",
       "    <tr>\n",
       "      <th>3</th>\n",
       "      <td>1997-05-20 04:00:00+00:00</td>\n",
       "      <td>0.086458</td>\n",
       "      <td>0.087500</td>\n",
       "      <td>0.081771</td>\n",
       "      <td>0.081771</td>\n",
       "      <td>109344000</td>\n",
       "      <td>0.0</td>\n",
       "      <td>0.0</td>\n",
       "      <td>1997-05-20</td>\n",
       "      <td>04:00:00</td>\n",
       "    </tr>\n",
       "    <tr>\n",
       "      <th>4</th>\n",
       "      <td>1997-05-21 04:00:00+00:00</td>\n",
       "      <td>0.081771</td>\n",
       "      <td>0.082292</td>\n",
       "      <td>0.068750</td>\n",
       "      <td>0.071354</td>\n",
       "      <td>377064000</td>\n",
       "      <td>0.0</td>\n",
       "      <td>0.0</td>\n",
       "      <td>1997-05-21</td>\n",
       "      <td>04:00:00</td>\n",
       "    </tr>\n",
       "    <tr>\n",
       "      <th>...</th>\n",
       "      <td>...</td>\n",
       "      <td>...</td>\n",
       "      <td>...</td>\n",
       "      <td>...</td>\n",
       "      <td>...</td>\n",
       "      <td>...</td>\n",
       "      <td>...</td>\n",
       "      <td>...</td>\n",
       "      <td>...</td>\n",
       "      <td>...</td>\n",
       "    </tr>\n",
       "    <tr>\n",
       "      <th>6982</th>\n",
       "      <td>2025-02-14 05:00:00+00:00</td>\n",
       "      <td>229.199997</td>\n",
       "      <td>229.889999</td>\n",
       "      <td>227.229996</td>\n",
       "      <td>228.679993</td>\n",
       "      <td>27031100</td>\n",
       "      <td>0.0</td>\n",
       "      <td>0.0</td>\n",
       "      <td>2025-02-14</td>\n",
       "      <td>05:00:00</td>\n",
       "    </tr>\n",
       "    <tr>\n",
       "      <th>6983</th>\n",
       "      <td>2025-02-18 05:00:00+00:00</td>\n",
       "      <td>228.820007</td>\n",
       "      <td>229.300003</td>\n",
       "      <td>223.720001</td>\n",
       "      <td>226.649994</td>\n",
       "      <td>42975100</td>\n",
       "      <td>0.0</td>\n",
       "      <td>0.0</td>\n",
       "      <td>2025-02-18</td>\n",
       "      <td>05:00:00</td>\n",
       "    </tr>\n",
       "    <tr>\n",
       "      <th>6984</th>\n",
       "      <td>2025-02-19 05:00:00+00:00</td>\n",
       "      <td>225.520004</td>\n",
       "      <td>226.830002</td>\n",
       "      <td>223.710007</td>\n",
       "      <td>226.630005</td>\n",
       "      <td>28566700</td>\n",
       "      <td>0.0</td>\n",
       "      <td>0.0</td>\n",
       "      <td>2025-02-19</td>\n",
       "      <td>05:00:00</td>\n",
       "    </tr>\n",
       "    <tr>\n",
       "      <th>6985</th>\n",
       "      <td>2025-02-20 05:00:00+00:00</td>\n",
       "      <td>224.779999</td>\n",
       "      <td>225.130005</td>\n",
       "      <td>221.809998</td>\n",
       "      <td>222.880005</td>\n",
       "      <td>30001700</td>\n",
       "      <td>0.0</td>\n",
       "      <td>0.0</td>\n",
       "      <td>2025-02-20</td>\n",
       "      <td>05:00:00</td>\n",
       "    </tr>\n",
       "    <tr>\n",
       "      <th>6986</th>\n",
       "      <td>2025-02-21 05:00:00+00:00</td>\n",
       "      <td>223.279999</td>\n",
       "      <td>223.309998</td>\n",
       "      <td>214.740005</td>\n",
       "      <td>216.580002</td>\n",
       "      <td>55161000</td>\n",
       "      <td>0.0</td>\n",
       "      <td>0.0</td>\n",
       "      <td>2025-02-21</td>\n",
       "      <td>05:00:00</td>\n",
       "    </tr>\n",
       "  </tbody>\n",
       "</table>\n",
       "<p>6987 rows × 10 columns</p>\n",
       "</div>"
      ],
      "text/plain": [
       "                          Date        Open        High         Low  \\\n",
       "0    1997-05-15 04:00:00+00:00    0.121875    0.125000    0.096354   \n",
       "1    1997-05-16 04:00:00+00:00    0.098438    0.098958    0.085417   \n",
       "2    1997-05-19 04:00:00+00:00    0.088021    0.088542    0.081250   \n",
       "3    1997-05-20 04:00:00+00:00    0.086458    0.087500    0.081771   \n",
       "4    1997-05-21 04:00:00+00:00    0.081771    0.082292    0.068750   \n",
       "...                        ...         ...         ...         ...   \n",
       "6982 2025-02-14 05:00:00+00:00  229.199997  229.889999  227.229996   \n",
       "6983 2025-02-18 05:00:00+00:00  228.820007  229.300003  223.720001   \n",
       "6984 2025-02-19 05:00:00+00:00  225.520004  226.830002  223.710007   \n",
       "6985 2025-02-20 05:00:00+00:00  224.779999  225.130005  221.809998   \n",
       "6986 2025-02-21 05:00:00+00:00  223.279999  223.309998  214.740005   \n",
       "\n",
       "           Close      Volume  Dividends  Stock Splits       ndate      time  \n",
       "0       0.097917  1443120000        0.0           0.0  1997-05-15  04:00:00  \n",
       "1       0.086458   294000000        0.0           0.0  1997-05-16  04:00:00  \n",
       "2       0.085417   122136000        0.0           0.0  1997-05-19  04:00:00  \n",
       "3       0.081771   109344000        0.0           0.0  1997-05-20  04:00:00  \n",
       "4       0.071354   377064000        0.0           0.0  1997-05-21  04:00:00  \n",
       "...          ...         ...        ...           ...         ...       ...  \n",
       "6982  228.679993    27031100        0.0           0.0  2025-02-14  05:00:00  \n",
       "6983  226.649994    42975100        0.0           0.0  2025-02-18  05:00:00  \n",
       "6984  226.630005    28566700        0.0           0.0  2025-02-19  05:00:00  \n",
       "6985  222.880005    30001700        0.0           0.0  2025-02-20  05:00:00  \n",
       "6986  216.580002    55161000        0.0           0.0  2025-02-21  05:00:00  \n",
       "\n",
       "[6987 rows x 10 columns]"
      ]
     },
     "execution_count": 7,
     "metadata": {},
     "output_type": "execute_result"
    }
   ],
   "source": [
    "data['ndate'] = data['Date'].dt.date\n",
    "data['time'] = data['Date'].dt.time\n",
    "data\n",
    "# df.head()"
   ]
  },
  {
   "cell_type": "code",
   "execution_count": 8,
   "id": "bae48d20",
   "metadata": {
    "execution": {
     "iopub.execute_input": "2025-05-17T17:48:41.424570Z",
     "iopub.status.busy": "2025-05-17T17:48:41.424197Z",
     "iopub.status.idle": "2025-05-17T17:48:41.433728Z",
     "shell.execute_reply": "2025-05-17T17:48:41.432610Z"
    },
    "papermill": {
     "duration": 0.022176,
     "end_time": "2025-05-17T17:48:41.435206",
     "exception": false,
     "start_time": "2025-05-17T17:48:41.413030",
     "status": "completed"
    },
    "tags": []
   },
   "outputs": [
    {
     "name": "stdout",
     "output_type": "stream",
     "text": [
      "Dividends\n",
      "0.0    6987\n",
      "Name: count, dtype: int64 Stock Splits\n",
      "0.0     6983\n",
      "2.0        2\n",
      "3.0        1\n",
      "20.0       1\n",
      "Name: count, dtype: int64\n"
     ]
    }
   ],
   "source": [
    "print(data.Dividends.value_counts(), data['Stock Splits'].value_counts())"
   ]
  },
  {
   "cell_type": "code",
   "execution_count": 9,
   "id": "d4a3fc24",
   "metadata": {
    "execution": {
     "iopub.execute_input": "2025-05-17T17:48:41.456323Z",
     "iopub.status.busy": "2025-05-17T17:48:41.455303Z",
     "iopub.status.idle": "2025-05-17T17:48:41.459691Z",
     "shell.execute_reply": "2025-05-17T17:48:41.458727Z"
    },
    "papermill": {
     "duration": 0.016333,
     "end_time": "2025-05-17T17:48:41.461254",
     "exception": false,
     "start_time": "2025-05-17T17:48:41.444921",
     "status": "completed"
    },
    "tags": []
   },
   "outputs": [],
   "source": [
    "# data[data['Stock Splits']==20.0]\n",
    "# data[6300:6310]"
   ]
  },
  {
   "cell_type": "code",
   "execution_count": 10,
   "id": "8aeb88ad",
   "metadata": {
    "execution": {
     "iopub.execute_input": "2025-05-17T17:48:41.483758Z",
     "iopub.status.busy": "2025-05-17T17:48:41.482770Z",
     "iopub.status.idle": "2025-05-17T17:48:41.489453Z",
     "shell.execute_reply": "2025-05-17T17:48:41.488597Z"
    },
    "papermill": {
     "duration": 0.019676,
     "end_time": "2025-05-17T17:48:41.491047",
     "exception": false,
     "start_time": "2025-05-17T17:48:41.471371",
     "status": "completed"
    },
    "tags": []
   },
   "outputs": [],
   "source": [
    "data.drop(columns = ['Dividends', 'Stock Splits', 'Date'], inplace = True)"
   ]
  },
  {
   "cell_type": "code",
   "execution_count": 11,
   "id": "b42461f8",
   "metadata": {
    "execution": {
     "iopub.execute_input": "2025-05-17T17:48:41.511768Z",
     "iopub.status.busy": "2025-05-17T17:48:41.511085Z",
     "iopub.status.idle": "2025-05-17T17:48:41.515228Z",
     "shell.execute_reply": "2025-05-17T17:48:41.514238Z"
    },
    "papermill": {
     "duration": 0.016164,
     "end_time": "2025-05-17T17:48:41.516785",
     "exception": false,
     "start_time": "2025-05-17T17:48:41.500621",
     "status": "completed"
    },
    "tags": []
   },
   "outputs": [],
   "source": [
    "# data.head()\n",
    "# df.head()"
   ]
  },
  {
   "cell_type": "markdown",
   "id": "074feb07",
   "metadata": {
    "papermill": {
     "duration": 0.009665,
     "end_time": "2025-05-17T17:48:41.536187",
     "exception": false,
     "start_time": "2025-05-17T17:48:41.526522",
     "status": "completed"
    },
    "tags": []
   },
   "source": [
    "# XGBoost"
   ]
  },
  {
   "cell_type": "code",
   "execution_count": 12,
   "id": "5f9b04ab",
   "metadata": {
    "execution": {
     "iopub.execute_input": "2025-05-17T17:48:41.557104Z",
     "iopub.status.busy": "2025-05-17T17:48:41.556756Z",
     "iopub.status.idle": "2025-05-17T17:48:41.569800Z",
     "shell.execute_reply": "2025-05-17T17:48:41.568485Z"
    },
    "papermill": {
     "duration": 0.025311,
     "end_time": "2025-05-17T17:48:41.571289",
     "exception": false,
     "start_time": "2025-05-17T17:48:41.545978",
     "status": "completed"
    },
    "tags": []
   },
   "outputs": [
    {
     "name": "stdout",
     "output_type": "stream",
     "text": [
      "<class 'pandas.core.frame.DataFrame'>\n",
      "RangeIndex: 6987 entries, 0 to 6986\n",
      "Data columns (total 7 columns):\n",
      " #   Column  Non-Null Count  Dtype  \n",
      "---  ------  --------------  -----  \n",
      " 0   Open    6987 non-null   float64\n",
      " 1   High    6987 non-null   float64\n",
      " 2   Low     6987 non-null   float64\n",
      " 3   Close   6987 non-null   float64\n",
      " 4   Volume  6987 non-null   int64  \n",
      " 5   ndate   6987 non-null   object \n",
      " 6   time    6987 non-null   object \n",
      "dtypes: float64(4), int64(1), object(2)\n",
      "memory usage: 382.2+ KB\n"
     ]
    }
   ],
   "source": [
    "data.info()\n",
    "# dataxg.head()"
   ]
  },
  {
   "cell_type": "code",
   "execution_count": 13,
   "id": "b3dd0fa0",
   "metadata": {
    "execution": {
     "iopub.execute_input": "2025-05-17T17:48:41.592445Z",
     "iopub.status.busy": "2025-05-17T17:48:41.592135Z",
     "iopub.status.idle": "2025-05-17T17:48:41.598307Z",
     "shell.execute_reply": "2025-05-17T17:48:41.597470Z"
    },
    "papermill": {
     "duration": 0.018867,
     "end_time": "2025-05-17T17:48:41.599859",
     "exception": false,
     "start_time": "2025-05-17T17:48:41.580992",
     "status": "completed"
    },
    "tags": []
   },
   "outputs": [],
   "source": [
    "data.ndate = pd.to_datetime(data.ndate)"
   ]
  },
  {
   "cell_type": "code",
   "execution_count": 14,
   "id": "bbfd97bd",
   "metadata": {
    "execution": {
     "iopub.execute_input": "2025-05-17T17:48:41.620939Z",
     "iopub.status.busy": "2025-05-17T17:48:41.620593Z",
     "iopub.status.idle": "2025-05-17T17:48:41.638858Z",
     "shell.execute_reply": "2025-05-17T17:48:41.637823Z"
    },
    "papermill": {
     "duration": 0.030564,
     "end_time": "2025-05-17T17:48:41.640371",
     "exception": false,
     "start_time": "2025-05-17T17:48:41.609807",
     "status": "completed"
    },
    "tags": []
   },
   "outputs": [
    {
     "data": {
      "text/html": [
       "<div>\n",
       "<style scoped>\n",
       "    .dataframe tbody tr th:only-of-type {\n",
       "        vertical-align: middle;\n",
       "    }\n",
       "\n",
       "    .dataframe tbody tr th {\n",
       "        vertical-align: top;\n",
       "    }\n",
       "\n",
       "    .dataframe thead th {\n",
       "        text-align: right;\n",
       "    }\n",
       "</style>\n",
       "<table border=\"1\" class=\"dataframe\">\n",
       "  <thead>\n",
       "    <tr style=\"text-align: right;\">\n",
       "      <th></th>\n",
       "      <th>Open</th>\n",
       "      <th>High</th>\n",
       "      <th>Low</th>\n",
       "      <th>Close</th>\n",
       "      <th>Volume</th>\n",
       "      <th>ndate</th>\n",
       "      <th>time</th>\n",
       "      <th>dayofweek</th>\n",
       "      <th>quarter</th>\n",
       "      <th>month</th>\n",
       "      <th>year</th>\n",
       "      <th>dayofyear</th>\n",
       "    </tr>\n",
       "  </thead>\n",
       "  <tbody>\n",
       "    <tr>\n",
       "      <th>0</th>\n",
       "      <td>0.121875</td>\n",
       "      <td>0.125000</td>\n",
       "      <td>0.096354</td>\n",
       "      <td>0.097917</td>\n",
       "      <td>1443120000</td>\n",
       "      <td>1997-05-15</td>\n",
       "      <td>04:00:00</td>\n",
       "      <td>3</td>\n",
       "      <td>2</td>\n",
       "      <td>5</td>\n",
       "      <td>1997</td>\n",
       "      <td>135</td>\n",
       "    </tr>\n",
       "    <tr>\n",
       "      <th>1</th>\n",
       "      <td>0.098438</td>\n",
       "      <td>0.098958</td>\n",
       "      <td>0.085417</td>\n",
       "      <td>0.086458</td>\n",
       "      <td>294000000</td>\n",
       "      <td>1997-05-16</td>\n",
       "      <td>04:00:00</td>\n",
       "      <td>4</td>\n",
       "      <td>2</td>\n",
       "      <td>5</td>\n",
       "      <td>1997</td>\n",
       "      <td>136</td>\n",
       "    </tr>\n",
       "    <tr>\n",
       "      <th>2</th>\n",
       "      <td>0.088021</td>\n",
       "      <td>0.088542</td>\n",
       "      <td>0.081250</td>\n",
       "      <td>0.085417</td>\n",
       "      <td>122136000</td>\n",
       "      <td>1997-05-19</td>\n",
       "      <td>04:00:00</td>\n",
       "      <td>0</td>\n",
       "      <td>2</td>\n",
       "      <td>5</td>\n",
       "      <td>1997</td>\n",
       "      <td>139</td>\n",
       "    </tr>\n",
       "    <tr>\n",
       "      <th>3</th>\n",
       "      <td>0.086458</td>\n",
       "      <td>0.087500</td>\n",
       "      <td>0.081771</td>\n",
       "      <td>0.081771</td>\n",
       "      <td>109344000</td>\n",
       "      <td>1997-05-20</td>\n",
       "      <td>04:00:00</td>\n",
       "      <td>1</td>\n",
       "      <td>2</td>\n",
       "      <td>5</td>\n",
       "      <td>1997</td>\n",
       "      <td>140</td>\n",
       "    </tr>\n",
       "    <tr>\n",
       "      <th>4</th>\n",
       "      <td>0.081771</td>\n",
       "      <td>0.082292</td>\n",
       "      <td>0.068750</td>\n",
       "      <td>0.071354</td>\n",
       "      <td>377064000</td>\n",
       "      <td>1997-05-21</td>\n",
       "      <td>04:00:00</td>\n",
       "      <td>2</td>\n",
       "      <td>2</td>\n",
       "      <td>5</td>\n",
       "      <td>1997</td>\n",
       "      <td>141</td>\n",
       "    </tr>\n",
       "  </tbody>\n",
       "</table>\n",
       "</div>"
      ],
      "text/plain": [
       "       Open      High       Low     Close      Volume      ndate      time  \\\n",
       "0  0.121875  0.125000  0.096354  0.097917  1443120000 1997-05-15  04:00:00   \n",
       "1  0.098438  0.098958  0.085417  0.086458   294000000 1997-05-16  04:00:00   \n",
       "2  0.088021  0.088542  0.081250  0.085417   122136000 1997-05-19  04:00:00   \n",
       "3  0.086458  0.087500  0.081771  0.081771   109344000 1997-05-20  04:00:00   \n",
       "4  0.081771  0.082292  0.068750  0.071354   377064000 1997-05-21  04:00:00   \n",
       "\n",
       "   dayofweek  quarter  month  year  dayofyear  \n",
       "0          3        2      5  1997        135  \n",
       "1          4        2      5  1997        136  \n",
       "2          0        2      5  1997        139  \n",
       "3          1        2      5  1997        140  \n",
       "4          2        2      5  1997        141  "
      ]
     },
     "execution_count": 14,
     "metadata": {},
     "output_type": "execute_result"
    }
   ],
   "source": [
    "data['dayofweek']=data.ndate.dt.dayofweek\n",
    "data['quarter']=data.ndate.dt.quarter\n",
    "data['month']=data.ndate.dt.month\n",
    "data['year']=data.ndate.dt.year\n",
    "data['dayofyear']=data.ndate.dt.dayofyear\n",
    "data.head()"
   ]
  },
  {
   "cell_type": "code",
   "execution_count": 15,
   "id": "da8d1579",
   "metadata": {
    "execution": {
     "iopub.execute_input": "2025-05-17T17:48:41.662358Z",
     "iopub.status.busy": "2025-05-17T17:48:41.662006Z",
     "iopub.status.idle": "2025-05-17T17:48:41.707882Z",
     "shell.execute_reply": "2025-05-17T17:48:41.706995Z"
    },
    "papermill": {
     "duration": 0.059195,
     "end_time": "2025-05-17T17:48:41.709308",
     "exception": false,
     "start_time": "2025-05-17T17:48:41.650113",
     "status": "completed"
    },
    "tags": []
   },
   "outputs": [
    {
     "data": {
      "text/html": [
       "<div>\n",
       "<style scoped>\n",
       "    .dataframe tbody tr th:only-of-type {\n",
       "        vertical-align: middle;\n",
       "    }\n",
       "\n",
       "    .dataframe tbody tr th {\n",
       "        vertical-align: top;\n",
       "    }\n",
       "\n",
       "    .dataframe thead th {\n",
       "        text-align: right;\n",
       "    }\n",
       "</style>\n",
       "<table border=\"1\" class=\"dataframe\">\n",
       "  <thead>\n",
       "    <tr style=\"text-align: right;\">\n",
       "      <th></th>\n",
       "      <th>Open</th>\n",
       "      <th>High</th>\n",
       "      <th>Low</th>\n",
       "      <th>Close</th>\n",
       "      <th>Volume</th>\n",
       "      <th>dayofweek</th>\n",
       "      <th>quarter</th>\n",
       "      <th>month</th>\n",
       "      <th>year</th>\n",
       "      <th>dayofyear</th>\n",
       "      <th>...</th>\n",
       "      <th>Close_lag_20</th>\n",
       "      <th>Close_lag_21</th>\n",
       "      <th>Close_lag_22</th>\n",
       "      <th>Close_lag_23</th>\n",
       "      <th>Close_lag_24</th>\n",
       "      <th>Close_lag_25</th>\n",
       "      <th>Close_lag_26</th>\n",
       "      <th>Close_lag_27</th>\n",
       "      <th>Close_lag_28</th>\n",
       "      <th>Close_lag_29</th>\n",
       "    </tr>\n",
       "  </thead>\n",
       "  <tbody>\n",
       "    <tr>\n",
       "      <th>29</th>\n",
       "      <td>0.076042</td>\n",
       "      <td>0.076042</td>\n",
       "      <td>0.075260</td>\n",
       "      <td>0.075521</td>\n",
       "      <td>63792000</td>\n",
       "      <td>3</td>\n",
       "      <td>2</td>\n",
       "      <td>6</td>\n",
       "      <td>1997</td>\n",
       "      <td>177</td>\n",
       "      <td>...</td>\n",
       "      <td>0.075260</td>\n",
       "      <td>0.076563</td>\n",
       "      <td>0.079167</td>\n",
       "      <td>0.075000</td>\n",
       "      <td>0.069792</td>\n",
       "      <td>0.071354</td>\n",
       "      <td>0.081771</td>\n",
       "      <td>0.085417</td>\n",
       "      <td>0.086458</td>\n",
       "      <td>0.097917</td>\n",
       "    </tr>\n",
       "    <tr>\n",
       "      <th>30</th>\n",
       "      <td>0.075781</td>\n",
       "      <td>0.075781</td>\n",
       "      <td>0.073958</td>\n",
       "      <td>0.074479</td>\n",
       "      <td>23760000</td>\n",
       "      <td>4</td>\n",
       "      <td>2</td>\n",
       "      <td>6</td>\n",
       "      <td>1997</td>\n",
       "      <td>178</td>\n",
       "      <td>...</td>\n",
       "      <td>0.075000</td>\n",
       "      <td>0.075260</td>\n",
       "      <td>0.076563</td>\n",
       "      <td>0.079167</td>\n",
       "      <td>0.075000</td>\n",
       "      <td>0.069792</td>\n",
       "      <td>0.071354</td>\n",
       "      <td>0.081771</td>\n",
       "      <td>0.085417</td>\n",
       "      <td>0.086458</td>\n",
       "    </tr>\n",
       "    <tr>\n",
       "      <th>31</th>\n",
       "      <td>0.075521</td>\n",
       "      <td>0.079948</td>\n",
       "      <td>0.073958</td>\n",
       "      <td>0.077083</td>\n",
       "      <td>54936000</td>\n",
       "      <td>0</td>\n",
       "      <td>2</td>\n",
       "      <td>6</td>\n",
       "      <td>1997</td>\n",
       "      <td>181</td>\n",
       "      <td>...</td>\n",
       "      <td>0.075521</td>\n",
       "      <td>0.075000</td>\n",
       "      <td>0.075260</td>\n",
       "      <td>0.076563</td>\n",
       "      <td>0.079167</td>\n",
       "      <td>0.075000</td>\n",
       "      <td>0.069792</td>\n",
       "      <td>0.071354</td>\n",
       "      <td>0.081771</td>\n",
       "      <td>0.085417</td>\n",
       "    </tr>\n",
       "    <tr>\n",
       "      <th>32</th>\n",
       "      <td>0.077083</td>\n",
       "      <td>0.077083</td>\n",
       "      <td>0.075521</td>\n",
       "      <td>0.075781</td>\n",
       "      <td>25848000</td>\n",
       "      <td>1</td>\n",
       "      <td>3</td>\n",
       "      <td>7</td>\n",
       "      <td>1997</td>\n",
       "      <td>182</td>\n",
       "      <td>...</td>\n",
       "      <td>0.073958</td>\n",
       "      <td>0.075521</td>\n",
       "      <td>0.075000</td>\n",
       "      <td>0.075260</td>\n",
       "      <td>0.076563</td>\n",
       "      <td>0.079167</td>\n",
       "      <td>0.075000</td>\n",
       "      <td>0.069792</td>\n",
       "      <td>0.071354</td>\n",
       "      <td>0.081771</td>\n",
       "    </tr>\n",
       "    <tr>\n",
       "      <th>33</th>\n",
       "      <td>0.075781</td>\n",
       "      <td>0.079688</td>\n",
       "      <td>0.075521</td>\n",
       "      <td>0.079427</td>\n",
       "      <td>77640000</td>\n",
       "      <td>2</td>\n",
       "      <td>3</td>\n",
       "      <td>7</td>\n",
       "      <td>1997</td>\n",
       "      <td>183</td>\n",
       "      <td>...</td>\n",
       "      <td>0.070833</td>\n",
       "      <td>0.073958</td>\n",
       "      <td>0.075521</td>\n",
       "      <td>0.075000</td>\n",
       "      <td>0.075260</td>\n",
       "      <td>0.076563</td>\n",
       "      <td>0.079167</td>\n",
       "      <td>0.075000</td>\n",
       "      <td>0.069792</td>\n",
       "      <td>0.071354</td>\n",
       "    </tr>\n",
       "  </tbody>\n",
       "</table>\n",
       "<p>5 rows × 39 columns</p>\n",
       "</div>"
      ],
      "text/plain": [
       "        Open      High       Low     Close    Volume  dayofweek  quarter  \\\n",
       "29  0.076042  0.076042  0.075260  0.075521  63792000          3        2   \n",
       "30  0.075781  0.075781  0.073958  0.074479  23760000          4        2   \n",
       "31  0.075521  0.079948  0.073958  0.077083  54936000          0        2   \n",
       "32  0.077083  0.077083  0.075521  0.075781  25848000          1        3   \n",
       "33  0.075781  0.079688  0.075521  0.079427  77640000          2        3   \n",
       "\n",
       "    month  year  dayofyear  ...  Close_lag_20  Close_lag_21  Close_lag_22  \\\n",
       "29      6  1997        177  ...      0.075260      0.076563      0.079167   \n",
       "30      6  1997        178  ...      0.075000      0.075260      0.076563   \n",
       "31      6  1997        181  ...      0.075521      0.075000      0.075260   \n",
       "32      7  1997        182  ...      0.073958      0.075521      0.075000   \n",
       "33      7  1997        183  ...      0.070833      0.073958      0.075521   \n",
       "\n",
       "    Close_lag_23  Close_lag_24  Close_lag_25  Close_lag_26  Close_lag_27  \\\n",
       "29      0.075000      0.069792      0.071354      0.081771      0.085417   \n",
       "30      0.079167      0.075000      0.069792      0.071354      0.081771   \n",
       "31      0.076563      0.079167      0.075000      0.069792      0.071354   \n",
       "32      0.075260      0.076563      0.079167      0.075000      0.069792   \n",
       "33      0.075000      0.075260      0.076563      0.079167      0.075000   \n",
       "\n",
       "    Close_lag_28  Close_lag_29  \n",
       "29      0.086458      0.097917  \n",
       "30      0.085417      0.086458  \n",
       "31      0.081771      0.085417  \n",
       "32      0.071354      0.081771  \n",
       "33      0.069792      0.071354  \n",
       "\n",
       "[5 rows x 39 columns]"
      ]
     },
     "execution_count": 15,
     "metadata": {},
     "output_type": "execute_result"
    }
   ],
   "source": [
    "data = data.copy()\n",
    "for lag in range(1, 30):  \n",
    "    data.loc[:, f'Close_lag_{lag}'] = data['Close'].shift(lag) \n",
    "data = data.dropna()\n",
    "data.drop(columns = ['ndate', 'time'], inplace=True)\n",
    "data.head()"
   ]
  },
  {
   "cell_type": "code",
   "execution_count": 16,
   "id": "1839bc82",
   "metadata": {
    "execution": {
     "iopub.execute_input": "2025-05-17T17:48:41.797717Z",
     "iopub.status.busy": "2025-05-17T17:48:41.797343Z",
     "iopub.status.idle": "2025-05-17T17:48:43.358930Z",
     "shell.execute_reply": "2025-05-17T17:48:43.358015Z"
    },
    "papermill": {
     "duration": 1.640008,
     "end_time": "2025-05-17T17:48:43.360331",
     "exception": false,
     "start_time": "2025-05-17T17:48:41.720323",
     "status": "completed"
    },
    "tags": []
   },
   "outputs": [
    {
     "data": {
      "text/html": [
       "<div>\n",
       "<style scoped>\n",
       "    .dataframe tbody tr th:only-of-type {\n",
       "        vertical-align: middle;\n",
       "    }\n",
       "\n",
       "    .dataframe tbody tr th {\n",
       "        vertical-align: top;\n",
       "    }\n",
       "\n",
       "    .dataframe thead th {\n",
       "        text-align: right;\n",
       "    }\n",
       "</style>\n",
       "<table border=\"1\" class=\"dataframe\">\n",
       "  <thead>\n",
       "    <tr style=\"text-align: right;\">\n",
       "      <th></th>\n",
       "      <th>Open</th>\n",
       "      <th>High</th>\n",
       "      <th>Low</th>\n",
       "      <th>Close</th>\n",
       "      <th>Volume</th>\n",
       "      <th>dayofweek</th>\n",
       "      <th>quarter</th>\n",
       "      <th>month</th>\n",
       "      <th>year</th>\n",
       "      <th>dayofyear</th>\n",
       "      <th>...</th>\n",
       "      <th>Close_lag_20</th>\n",
       "      <th>Close_lag_21</th>\n",
       "      <th>Close_lag_22</th>\n",
       "      <th>Close_lag_23</th>\n",
       "      <th>Close_lag_24</th>\n",
       "      <th>Close_lag_25</th>\n",
       "      <th>Close_lag_26</th>\n",
       "      <th>Close_lag_27</th>\n",
       "      <th>Close_lag_28</th>\n",
       "      <th>Close_lag_29</th>\n",
       "    </tr>\n",
       "  </thead>\n",
       "  <tbody>\n",
       "    <tr>\n",
       "      <th>29</th>\n",
       "      <td>0.000002</td>\n",
       "      <td>0.000001</td>\n",
       "      <td>0.000005</td>\n",
       "      <td>0.075521</td>\n",
       "      <td>0.026024</td>\n",
       "      <td>0.75</td>\n",
       "      <td>0.333333</td>\n",
       "      <td>0.454545</td>\n",
       "      <td>0.0</td>\n",
       "      <td>0.480769</td>\n",
       "      <td>...</td>\n",
       "      <td>0.000019</td>\n",
       "      <td>0.000024</td>\n",
       "      <td>0.000036</td>\n",
       "      <td>0.000018</td>\n",
       "      <td>0.000000</td>\n",
       "      <td>0.000007</td>\n",
       "      <td>0.000051</td>\n",
       "      <td>0.000067</td>\n",
       "      <td>0.000072</td>\n",
       "      <td>0.000121</td>\n",
       "    </tr>\n",
       "    <tr>\n",
       "      <th>30</th>\n",
       "      <td>0.000001</td>\n",
       "      <td>0.000000</td>\n",
       "      <td>0.000000</td>\n",
       "      <td>0.074479</td>\n",
       "      <td>0.006749</td>\n",
       "      <td>1.00</td>\n",
       "      <td>0.333333</td>\n",
       "      <td>0.454545</td>\n",
       "      <td>0.0</td>\n",
       "      <td>0.483516</td>\n",
       "      <td>...</td>\n",
       "      <td>0.000018</td>\n",
       "      <td>0.000019</td>\n",
       "      <td>0.000025</td>\n",
       "      <td>0.000036</td>\n",
       "      <td>0.000022</td>\n",
       "      <td>0.000000</td>\n",
       "      <td>0.000007</td>\n",
       "      <td>0.000051</td>\n",
       "      <td>0.000067</td>\n",
       "      <td>0.000072</td>\n",
       "    </tr>\n",
       "    <tr>\n",
       "      <th>31</th>\n",
       "      <td>0.000000</td>\n",
       "      <td>0.000017</td>\n",
       "      <td>0.000000</td>\n",
       "      <td>0.077083</td>\n",
       "      <td>0.021760</td>\n",
       "      <td>0.00</td>\n",
       "      <td>0.333333</td>\n",
       "      <td>0.454545</td>\n",
       "      <td>0.0</td>\n",
       "      <td>0.491758</td>\n",
       "      <td>...</td>\n",
       "      <td>0.000020</td>\n",
       "      <td>0.000018</td>\n",
       "      <td>0.000019</td>\n",
       "      <td>0.000025</td>\n",
       "      <td>0.000040</td>\n",
       "      <td>0.000022</td>\n",
       "      <td>0.000000</td>\n",
       "      <td>0.000007</td>\n",
       "      <td>0.000051</td>\n",
       "      <td>0.000067</td>\n",
       "    </tr>\n",
       "  </tbody>\n",
       "</table>\n",
       "<p>3 rows × 39 columns</p>\n",
       "</div>"
      ],
      "text/plain": [
       "        Open      High       Low     Close    Volume  dayofweek   quarter  \\\n",
       "29  0.000002  0.000001  0.000005  0.075521  0.026024       0.75  0.333333   \n",
       "30  0.000001  0.000000  0.000000  0.074479  0.006749       1.00  0.333333   \n",
       "31  0.000000  0.000017  0.000000  0.077083  0.021760       0.00  0.333333   \n",
       "\n",
       "       month  year  dayofyear  ...  Close_lag_20  Close_lag_21  Close_lag_22  \\\n",
       "29  0.454545   0.0   0.480769  ...      0.000019      0.000024      0.000036   \n",
       "30  0.454545   0.0   0.483516  ...      0.000018      0.000019      0.000025   \n",
       "31  0.454545   0.0   0.491758  ...      0.000020      0.000018      0.000019   \n",
       "\n",
       "    Close_lag_23  Close_lag_24  Close_lag_25  Close_lag_26  Close_lag_27  \\\n",
       "29      0.000018      0.000000      0.000007      0.000051      0.000067   \n",
       "30      0.000036      0.000022      0.000000      0.000007      0.000051   \n",
       "31      0.000025      0.000040      0.000022      0.000000      0.000007   \n",
       "\n",
       "    Close_lag_28  Close_lag_29  \n",
       "29      0.000072      0.000121  \n",
       "30      0.000067      0.000072  \n",
       "31      0.000051      0.000067  \n",
       "\n",
       "[3 rows x 39 columns]"
      ]
     },
     "execution_count": 16,
     "metadata": {},
     "output_type": "execute_result"
    }
   ],
   "source": [
    "from sklearn.preprocessing import MinMaxScaler\n",
    "\n",
    "scaler = MinMaxScaler()\n",
    "features = ['Open', 'High', 'Low', 'Volume', 'dayofweek', 'quarter', 'month', 'year', 'dayofyear'] + [f'Close_lag_{i}' for i in range(1, 30)]\n",
    "data[features] = data[features].astype(float)\n",
    "data.loc[:, features] = scaler.fit_transform(data[features])\n",
    "data.head(3)"
   ]
  },
  {
   "cell_type": "code",
   "execution_count": 17,
   "id": "52d236d2",
   "metadata": {
    "execution": {
     "iopub.execute_input": "2025-05-17T17:48:43.383364Z",
     "iopub.status.busy": "2025-05-17T17:48:43.382304Z",
     "iopub.status.idle": "2025-05-17T17:48:43.395800Z",
     "shell.execute_reply": "2025-05-17T17:48:43.394654Z"
    },
    "papermill": {
     "duration": 0.026579,
     "end_time": "2025-05-17T17:48:43.397331",
     "exception": false,
     "start_time": "2025-05-17T17:48:43.370752",
     "status": "completed"
    },
    "tags": []
   },
   "outputs": [
    {
     "name": "stdout",
     "output_type": "stream",
     "text": [
      "(5218, 38) (5218,) (1740, 38) (1740,)\n"
     ]
    },
    {
     "data": {
      "text/plain": [
       "6982    228.679993\n",
       "6983    226.649994\n",
       "6984    226.630005\n",
       "6985    222.880005\n",
       "6986    216.580002\n",
       "Name: Close, dtype: float64"
      ]
     },
     "execution_count": 17,
     "metadata": {},
     "output_type": "execute_result"
    }
   ],
   "source": [
    "x = data.drop(columns =['Close'])\n",
    "y = data.Close\n",
    "split_len = int(len(x)*0.75)\n",
    "split_len\n",
    "xtrain, ytrain = x[:split_len], y[:split_len]\n",
    "xtest, ytest = x[split_len:], y[split_len:]\n",
    "print(xtrain.shape, ytrain.shape, xtest.shape, ytest.shape)\n",
    "y.tail()"
   ]
  },
  {
   "cell_type": "code",
   "execution_count": 18,
   "id": "f689d670",
   "metadata": {
    "execution": {
     "iopub.execute_input": "2025-05-17T17:48:43.420097Z",
     "iopub.status.busy": "2025-05-17T17:48:43.419780Z",
     "iopub.status.idle": "2025-05-17T17:48:44.694951Z",
     "shell.execute_reply": "2025-05-17T17:48:44.694051Z"
    },
    "papermill": {
     "duration": 1.288819,
     "end_time": "2025-05-17T17:48:44.696659",
     "exception": false,
     "start_time": "2025-05-17T17:48:43.407840",
     "status": "completed"
    },
    "tags": []
   },
   "outputs": [
    {
     "data": {
      "text/html": [
       "<style>#sk-container-id-1 {color: black;background-color: white;}#sk-container-id-1 pre{padding: 0;}#sk-container-id-1 div.sk-toggleable {background-color: white;}#sk-container-id-1 label.sk-toggleable__label {cursor: pointer;display: block;width: 100%;margin-bottom: 0;padding: 0.3em;box-sizing: border-box;text-align: center;}#sk-container-id-1 label.sk-toggleable__label-arrow:before {content: \"▸\";float: left;margin-right: 0.25em;color: #696969;}#sk-container-id-1 label.sk-toggleable__label-arrow:hover:before {color: black;}#sk-container-id-1 div.sk-estimator:hover label.sk-toggleable__label-arrow:before {color: black;}#sk-container-id-1 div.sk-toggleable__content {max-height: 0;max-width: 0;overflow: hidden;text-align: left;background-color: #f0f8ff;}#sk-container-id-1 div.sk-toggleable__content pre {margin: 0.2em;color: black;border-radius: 0.25em;background-color: #f0f8ff;}#sk-container-id-1 input.sk-toggleable__control:checked~div.sk-toggleable__content {max-height: 200px;max-width: 100%;overflow: auto;}#sk-container-id-1 input.sk-toggleable__control:checked~label.sk-toggleable__label-arrow:before {content: \"▾\";}#sk-container-id-1 div.sk-estimator input.sk-toggleable__control:checked~label.sk-toggleable__label {background-color: #d4ebff;}#sk-container-id-1 div.sk-label input.sk-toggleable__control:checked~label.sk-toggleable__label {background-color: #d4ebff;}#sk-container-id-1 input.sk-hidden--visually {border: 0;clip: rect(1px 1px 1px 1px);clip: rect(1px, 1px, 1px, 1px);height: 1px;margin: -1px;overflow: hidden;padding: 0;position: absolute;width: 1px;}#sk-container-id-1 div.sk-estimator {font-family: monospace;background-color: #f0f8ff;border: 1px dotted black;border-radius: 0.25em;box-sizing: border-box;margin-bottom: 0.5em;}#sk-container-id-1 div.sk-estimator:hover {background-color: #d4ebff;}#sk-container-id-1 div.sk-parallel-item::after {content: \"\";width: 100%;border-bottom: 1px solid gray;flex-grow: 1;}#sk-container-id-1 div.sk-label:hover label.sk-toggleable__label {background-color: #d4ebff;}#sk-container-id-1 div.sk-serial::before {content: \"\";position: absolute;border-left: 1px solid gray;box-sizing: border-box;top: 0;bottom: 0;left: 50%;z-index: 0;}#sk-container-id-1 div.sk-serial {display: flex;flex-direction: column;align-items: center;background-color: white;padding-right: 0.2em;padding-left: 0.2em;position: relative;}#sk-container-id-1 div.sk-item {position: relative;z-index: 1;}#sk-container-id-1 div.sk-parallel {display: flex;align-items: stretch;justify-content: center;background-color: white;position: relative;}#sk-container-id-1 div.sk-item::before, #sk-container-id-1 div.sk-parallel-item::before {content: \"\";position: absolute;border-left: 1px solid gray;box-sizing: border-box;top: 0;bottom: 0;left: 50%;z-index: -1;}#sk-container-id-1 div.sk-parallel-item {display: flex;flex-direction: column;z-index: 1;position: relative;background-color: white;}#sk-container-id-1 div.sk-parallel-item:first-child::after {align-self: flex-end;width: 50%;}#sk-container-id-1 div.sk-parallel-item:last-child::after {align-self: flex-start;width: 50%;}#sk-container-id-1 div.sk-parallel-item:only-child::after {width: 0;}#sk-container-id-1 div.sk-dashed-wrapped {border: 1px dashed gray;margin: 0 0.4em 0.5em 0.4em;box-sizing: border-box;padding-bottom: 0.4em;background-color: white;}#sk-container-id-1 div.sk-label label {font-family: monospace;font-weight: bold;display: inline-block;line-height: 1.2em;}#sk-container-id-1 div.sk-label-container {text-align: center;}#sk-container-id-1 div.sk-container {/* jupyter's `normalize.less` sets `[hidden] { display: none; }` but bootstrap.min.css set `[hidden] { display: none !important; }` so we also need the `!important` here to be able to override the default hidden behavior on the sphinx rendered scikit-learn.org. See: https://github.com/scikit-learn/scikit-learn/issues/21755 */display: inline-block !important;position: relative;}#sk-container-id-1 div.sk-text-repr-fallback {display: none;}</style><div id=\"sk-container-id-1\" class=\"sk-top-container\"><div class=\"sk-text-repr-fallback\"><pre>XGBRegressor(base_score=None, booster=None, callbacks=None,\n",
       "             colsample_bylevel=None, colsample_bynode=None,\n",
       "             colsample_bytree=None, device=None, early_stopping_rounds=None,\n",
       "             enable_categorical=False, eval_metric=None, feature_types=None,\n",
       "             gamma=None, grow_policy=None, importance_type=None,\n",
       "             interaction_constraints=None, learning_rate=0.05, max_bin=None,\n",
       "             max_cat_threshold=None, max_cat_to_onehot=None,\n",
       "             max_delta_step=None, max_depth=6, max_leaves=None,\n",
       "             min_child_weight=None, missing=nan, monotone_constraints=None,\n",
       "             multi_strategy=None, n_estimators=200, n_jobs=None,\n",
       "             num_parallel_tree=None, random_state=None, ...)</pre><b>In a Jupyter environment, please rerun this cell to show the HTML representation or trust the notebook. <br />On GitHub, the HTML representation is unable to render, please try loading this page with nbviewer.org.</b></div><div class=\"sk-container\" hidden><div class=\"sk-item\"><div class=\"sk-estimator sk-toggleable\"><input class=\"sk-toggleable__control sk-hidden--visually\" id=\"sk-estimator-id-1\" type=\"checkbox\" checked><label for=\"sk-estimator-id-1\" class=\"sk-toggleable__label sk-toggleable__label-arrow\">XGBRegressor</label><div class=\"sk-toggleable__content\"><pre>XGBRegressor(base_score=None, booster=None, callbacks=None,\n",
       "             colsample_bylevel=None, colsample_bynode=None,\n",
       "             colsample_bytree=None, device=None, early_stopping_rounds=None,\n",
       "             enable_categorical=False, eval_metric=None, feature_types=None,\n",
       "             gamma=None, grow_policy=None, importance_type=None,\n",
       "             interaction_constraints=None, learning_rate=0.05, max_bin=None,\n",
       "             max_cat_threshold=None, max_cat_to_onehot=None,\n",
       "             max_delta_step=None, max_depth=6, max_leaves=None,\n",
       "             min_child_weight=None, missing=nan, monotone_constraints=None,\n",
       "             multi_strategy=None, n_estimators=200, n_jobs=None,\n",
       "             num_parallel_tree=None, random_state=None, ...)</pre></div></div></div></div></div>"
      ],
      "text/plain": [
       "XGBRegressor(base_score=None, booster=None, callbacks=None,\n",
       "             colsample_bylevel=None, colsample_bynode=None,\n",
       "             colsample_bytree=None, device=None, early_stopping_rounds=None,\n",
       "             enable_categorical=False, eval_metric=None, feature_types=None,\n",
       "             gamma=None, grow_policy=None, importance_type=None,\n",
       "             interaction_constraints=None, learning_rate=0.05, max_bin=None,\n",
       "             max_cat_threshold=None, max_cat_to_onehot=None,\n",
       "             max_delta_step=None, max_depth=6, max_leaves=None,\n",
       "             min_child_weight=None, missing=nan, monotone_constraints=None,\n",
       "             multi_strategy=None, n_estimators=200, n_jobs=None,\n",
       "             num_parallel_tree=None, random_state=None, ...)"
      ]
     },
     "execution_count": 18,
     "metadata": {},
     "output_type": "execute_result"
    }
   ],
   "source": [
    "from xgboost import XGBRegressor\n",
    "xgb = XGBRegressor(n_estimators=200, max_depth=6, learning_rate=0.05)\n",
    "xgb.fit(xtrain, ytrain)"
   ]
  },
  {
   "cell_type": "code",
   "execution_count": 19,
   "id": "93a064f8",
   "metadata": {
    "execution": {
     "iopub.execute_input": "2025-05-17T17:48:44.719442Z",
     "iopub.status.busy": "2025-05-17T17:48:44.718813Z",
     "iopub.status.idle": "2025-05-17T17:48:44.742787Z",
     "shell.execute_reply": "2025-05-17T17:48:44.741942Z"
    },
    "papermill": {
     "duration": 0.036832,
     "end_time": "2025-05-17T17:48:44.744263",
     "exception": false,
     "start_time": "2025-05-17T17:48:44.707431",
     "status": "completed"
    },
    "tags": []
   },
   "outputs": [
    {
     "data": {
      "text/html": [
       "<div>\n",
       "<style scoped>\n",
       "    .dataframe tbody tr th:only-of-type {\n",
       "        vertical-align: middle;\n",
       "    }\n",
       "\n",
       "    .dataframe tbody tr th {\n",
       "        vertical-align: top;\n",
       "    }\n",
       "\n",
       "    .dataframe thead th {\n",
       "        text-align: right;\n",
       "    }\n",
       "</style>\n",
       "<table border=\"1\" class=\"dataframe\">\n",
       "  <thead>\n",
       "    <tr style=\"text-align: right;\">\n",
       "      <th></th>\n",
       "      <th>preds</th>\n",
       "      <th>actual</th>\n",
       "      <th>diff</th>\n",
       "    </tr>\n",
       "  </thead>\n",
       "  <tbody>\n",
       "    <tr>\n",
       "      <th>6248</th>\n",
       "      <td>79.354713</td>\n",
       "      <td>141.852997</td>\n",
       "      <td>62.498283</td>\n",
       "    </tr>\n",
       "    <tr>\n",
       "      <th>5489</th>\n",
       "      <td>79.354713</td>\n",
       "      <td>83.530998</td>\n",
       "      <td>4.176285</td>\n",
       "    </tr>\n",
       "    <tr>\n",
       "      <th>6498</th>\n",
       "      <td>79.344604</td>\n",
       "      <td>92.430000</td>\n",
       "      <td>13.085396</td>\n",
       "    </tr>\n",
       "    <tr>\n",
       "      <th>5742</th>\n",
       "      <td>79.340240</td>\n",
       "      <td>91.042999</td>\n",
       "      <td>11.702759</td>\n",
       "    </tr>\n",
       "    <tr>\n",
       "      <th>5490</th>\n",
       "      <td>79.335899</td>\n",
       "      <td>83.654999</td>\n",
       "      <td>4.319099</td>\n",
       "    </tr>\n",
       "    <tr>\n",
       "      <th>...</th>\n",
       "      <td>...</td>\n",
       "      <td>...</td>\n",
       "      <td>...</td>\n",
       "    </tr>\n",
       "    <tr>\n",
       "      <th>5437</th>\n",
       "      <td>73.794815</td>\n",
       "      <td>68.872498</td>\n",
       "      <td>4.922318</td>\n",
       "    </tr>\n",
       "    <tr>\n",
       "      <th>6222</th>\n",
       "      <td>73.791557</td>\n",
       "      <td>138.845505</td>\n",
       "      <td>65.053947</td>\n",
       "    </tr>\n",
       "    <tr>\n",
       "      <th>6223</th>\n",
       "      <td>73.672699</td>\n",
       "      <td>157.639496</td>\n",
       "      <td>83.966797</td>\n",
       "    </tr>\n",
       "    <tr>\n",
       "      <th>5441</th>\n",
       "      <td>73.208138</td>\n",
       "      <td>73.901001</td>\n",
       "      <td>0.692863</td>\n",
       "    </tr>\n",
       "    <tr>\n",
       "      <th>5255</th>\n",
       "      <td>73.123528</td>\n",
       "      <td>70.528503</td>\n",
       "      <td>2.595024</td>\n",
       "    </tr>\n",
       "  </tbody>\n",
       "</table>\n",
       "<p>1740 rows × 3 columns</p>\n",
       "</div>"
      ],
      "text/plain": [
       "          preds      actual       diff\n",
       "6248  79.354713  141.852997  62.498283\n",
       "5489  79.354713   83.530998   4.176285\n",
       "6498  79.344604   92.430000  13.085396\n",
       "5742  79.340240   91.042999  11.702759\n",
       "5490  79.335899   83.654999   4.319099\n",
       "...         ...         ...        ...\n",
       "5437  73.794815   68.872498   4.922318\n",
       "6222  73.791557  138.845505  65.053947\n",
       "6223  73.672699  157.639496  83.966797\n",
       "5441  73.208138   73.901001   0.692863\n",
       "5255  73.123528   70.528503   2.595024\n",
       "\n",
       "[1740 rows x 3 columns]"
      ]
     },
     "execution_count": 19,
     "metadata": {},
     "output_type": "execute_result"
    }
   ],
   "source": [
    "preds = xgb.predict(xtest)\n",
    "newpred = pd.DataFrame(data={'preds': preds, 'actual': ytest})\n",
    "newpred['diff'] = abs(newpred['preds']-newpred['actual'])\n",
    "newpred.sort_values('preds', ascending=False)\n",
    "# newpred.head(10)"
   ]
  },
  {
   "cell_type": "code",
   "execution_count": 20,
   "id": "3c8e5d99",
   "metadata": {
    "execution": {
     "iopub.execute_input": "2025-05-17T17:48:44.767414Z",
     "iopub.status.busy": "2025-05-17T17:48:44.766634Z",
     "iopub.status.idle": "2025-05-17T17:48:45.391642Z",
     "shell.execute_reply": "2025-05-17T17:48:45.390804Z"
    },
    "papermill": {
     "duration": 0.638252,
     "end_time": "2025-05-17T17:48:45.393286",
     "exception": false,
     "start_time": "2025-05-17T17:48:44.755034",
     "status": "completed"
    },
    "tags": []
   },
   "outputs": [],
   "source": [
    "# newpred['preds'].plot()\n",
    "# newpred['actual'].plot()\n",
    "import seaborn as sns\n",
    "import matplotlib.pyplot as plt\n",
    "# sns.lineplot(data = newpred.preds)\n",
    "# sns.lineplot(data = newpred.actual)"
   ]
  },
  {
   "cell_type": "code",
   "execution_count": 21,
   "id": "0a92de22",
   "metadata": {
    "execution": {
     "iopub.execute_input": "2025-05-17T17:48:45.416830Z",
     "iopub.status.busy": "2025-05-17T17:48:45.416349Z",
     "iopub.status.idle": "2025-05-17T17:48:45.422959Z",
     "shell.execute_reply": "2025-05-17T17:48:45.422178Z"
    },
    "papermill": {
     "duration": 0.019603,
     "end_time": "2025-05-17T17:48:45.424189",
     "exception": false,
     "start_time": "2025-05-17T17:48:45.404586",
     "status": "completed"
    },
    "tags": []
   },
   "outputs": [
    {
     "data": {
      "text/plain": [
       "56.44191644164337"
      ]
     },
     "execution_count": 21,
     "metadata": {},
     "output_type": "execute_result"
    }
   ],
   "source": [
    "from sklearn.metrics import mean_absolute_error\n",
    "mae = mean_absolute_error(preds, ytest)\n",
    "mae"
   ]
  },
  {
   "cell_type": "markdown",
   "id": "be124991",
   "metadata": {
    "papermill": {
     "duration": 0.011136,
     "end_time": "2025-05-17T17:48:45.446738",
     "exception": false,
     "start_time": "2025-05-17T17:48:45.435602",
     "status": "completed"
    },
    "tags": []
   },
   "source": [
    "- mae for xgb: 62.2051 \n",
    "- with feature scaling: 56.44191"
   ]
  },
  {
   "cell_type": "markdown",
   "id": "c5ac3e25",
   "metadata": {
    "papermill": {
     "duration": 0.010675,
     "end_time": "2025-05-17T17:48:45.468272",
     "exception": false,
     "start_time": "2025-05-17T17:48:45.457597",
     "status": "completed"
    },
    "tags": []
   },
   "source": [
    "# ARIMA"
   ]
  },
  {
   "cell_type": "code",
   "execution_count": 22,
   "id": "f1ba25c1",
   "metadata": {
    "execution": {
     "iopub.execute_input": "2025-05-17T17:48:45.491157Z",
     "iopub.status.busy": "2025-05-17T17:48:45.490831Z",
     "iopub.status.idle": "2025-05-17T17:48:45.504312Z",
     "shell.execute_reply": "2025-05-17T17:48:45.503450Z"
    },
    "papermill": {
     "duration": 0.026942,
     "end_time": "2025-05-17T17:48:45.506043",
     "exception": false,
     "start_time": "2025-05-17T17:48:45.479101",
     "status": "completed"
    },
    "tags": []
   },
   "outputs": [
    {
     "data": {
      "text/html": [
       "<div>\n",
       "<style scoped>\n",
       "    .dataframe tbody tr th:only-of-type {\n",
       "        vertical-align: middle;\n",
       "    }\n",
       "\n",
       "    .dataframe tbody tr th {\n",
       "        vertical-align: top;\n",
       "    }\n",
       "\n",
       "    .dataframe thead th {\n",
       "        text-align: right;\n",
       "    }\n",
       "</style>\n",
       "<table border=\"1\" class=\"dataframe\">\n",
       "  <thead>\n",
       "    <tr style=\"text-align: right;\">\n",
       "      <th></th>\n",
       "      <th>Date</th>\n",
       "      <th>Open</th>\n",
       "      <th>High</th>\n",
       "      <th>Low</th>\n",
       "      <th>Close</th>\n",
       "      <th>Volume</th>\n",
       "      <th>Dividends</th>\n",
       "      <th>Stock Splits</th>\n",
       "    </tr>\n",
       "  </thead>\n",
       "  <tbody>\n",
       "    <tr>\n",
       "      <th>0</th>\n",
       "      <td>1997-05-15 00:00:00-04:00</td>\n",
       "      <td>0.121875</td>\n",
       "      <td>0.125000</td>\n",
       "      <td>0.096354</td>\n",
       "      <td>0.097917</td>\n",
       "      <td>1443120000</td>\n",
       "      <td>0.0</td>\n",
       "      <td>0.0</td>\n",
       "    </tr>\n",
       "    <tr>\n",
       "      <th>1</th>\n",
       "      <td>1997-05-16 00:00:00-04:00</td>\n",
       "      <td>0.098438</td>\n",
       "      <td>0.098958</td>\n",
       "      <td>0.085417</td>\n",
       "      <td>0.086458</td>\n",
       "      <td>294000000</td>\n",
       "      <td>0.0</td>\n",
       "      <td>0.0</td>\n",
       "    </tr>\n",
       "    <tr>\n",
       "      <th>2</th>\n",
       "      <td>1997-05-19 00:00:00-04:00</td>\n",
       "      <td>0.088021</td>\n",
       "      <td>0.088542</td>\n",
       "      <td>0.081250</td>\n",
       "      <td>0.085417</td>\n",
       "      <td>122136000</td>\n",
       "      <td>0.0</td>\n",
       "      <td>0.0</td>\n",
       "    </tr>\n",
       "    <tr>\n",
       "      <th>3</th>\n",
       "      <td>1997-05-20 00:00:00-04:00</td>\n",
       "      <td>0.086458</td>\n",
       "      <td>0.087500</td>\n",
       "      <td>0.081771</td>\n",
       "      <td>0.081771</td>\n",
       "      <td>109344000</td>\n",
       "      <td>0.0</td>\n",
       "      <td>0.0</td>\n",
       "    </tr>\n",
       "    <tr>\n",
       "      <th>4</th>\n",
       "      <td>1997-05-21 00:00:00-04:00</td>\n",
       "      <td>0.081771</td>\n",
       "      <td>0.082292</td>\n",
       "      <td>0.068750</td>\n",
       "      <td>0.071354</td>\n",
       "      <td>377064000</td>\n",
       "      <td>0.0</td>\n",
       "      <td>0.0</td>\n",
       "    </tr>\n",
       "  </tbody>\n",
       "</table>\n",
       "</div>"
      ],
      "text/plain": [
       "                        Date      Open      High       Low     Close  \\\n",
       "0  1997-05-15 00:00:00-04:00  0.121875  0.125000  0.096354  0.097917   \n",
       "1  1997-05-16 00:00:00-04:00  0.098438  0.098958  0.085417  0.086458   \n",
       "2  1997-05-19 00:00:00-04:00  0.088021  0.088542  0.081250  0.085417   \n",
       "3  1997-05-20 00:00:00-04:00  0.086458  0.087500  0.081771  0.081771   \n",
       "4  1997-05-21 00:00:00-04:00  0.081771  0.082292  0.068750  0.071354   \n",
       "\n",
       "       Volume  Dividends  Stock Splits  \n",
       "0  1443120000        0.0           0.0  \n",
       "1   294000000        0.0           0.0  \n",
       "2   122136000        0.0           0.0  \n",
       "3   109344000        0.0           0.0  \n",
       "4   377064000        0.0           0.0  "
      ]
     },
     "execution_count": 22,
     "metadata": {},
     "output_type": "execute_result"
    }
   ],
   "source": [
    "data = df.copy()\n",
    "data.head()"
   ]
  },
  {
   "cell_type": "code",
   "execution_count": 23,
   "id": "b4f2461f",
   "metadata": {
    "execution": {
     "iopub.execute_input": "2025-05-17T17:48:45.530234Z",
     "iopub.status.busy": "2025-05-17T17:48:45.529953Z",
     "iopub.status.idle": "2025-05-17T17:48:45.598059Z",
     "shell.execute_reply": "2025-05-17T17:48:45.597176Z"
    },
    "papermill": {
     "duration": 0.081828,
     "end_time": "2025-05-17T17:48:45.599464",
     "exception": false,
     "start_time": "2025-05-17T17:48:45.517636",
     "status": "completed"
    },
    "tags": []
   },
   "outputs": [
    {
     "name": "stdout",
     "output_type": "stream",
     "text": [
      "<class 'pandas.core.frame.DataFrame'>\n",
      "RangeIndex: 6987 entries, 0 to 6986\n",
      "Data columns (total 6 columns):\n",
      " #   Column  Non-Null Count  Dtype  \n",
      "---  ------  --------------  -----  \n",
      " 0   Open    6987 non-null   float64\n",
      " 1   High    6987 non-null   float64\n",
      " 2   Low     6987 non-null   float64\n",
      " 3   Close   6987 non-null   float64\n",
      " 4   Volume  6987 non-null   int64  \n",
      " 5   ndate   6987 non-null   object \n",
      "dtypes: float64(4), int64(1), object(1)\n",
      "memory usage: 327.6+ KB\n"
     ]
    },
    {
     "data": {
      "text/html": [
       "<div>\n",
       "<style scoped>\n",
       "    .dataframe tbody tr th:only-of-type {\n",
       "        vertical-align: middle;\n",
       "    }\n",
       "\n",
       "    .dataframe tbody tr th {\n",
       "        vertical-align: top;\n",
       "    }\n",
       "\n",
       "    .dataframe thead th {\n",
       "        text-align: right;\n",
       "    }\n",
       "</style>\n",
       "<table border=\"1\" class=\"dataframe\">\n",
       "  <thead>\n",
       "    <tr style=\"text-align: right;\">\n",
       "      <th></th>\n",
       "      <th>Open</th>\n",
       "      <th>High</th>\n",
       "      <th>Low</th>\n",
       "      <th>Close</th>\n",
       "      <th>Volume</th>\n",
       "      <th>ndate</th>\n",
       "    </tr>\n",
       "  </thead>\n",
       "  <tbody>\n",
       "    <tr>\n",
       "      <th>0</th>\n",
       "      <td>0.121875</td>\n",
       "      <td>0.125000</td>\n",
       "      <td>0.096354</td>\n",
       "      <td>0.097917</td>\n",
       "      <td>1443120000</td>\n",
       "      <td>1997-05-15</td>\n",
       "    </tr>\n",
       "    <tr>\n",
       "      <th>1</th>\n",
       "      <td>0.098438</td>\n",
       "      <td>0.098958</td>\n",
       "      <td>0.085417</td>\n",
       "      <td>0.086458</td>\n",
       "      <td>294000000</td>\n",
       "      <td>1997-05-16</td>\n",
       "    </tr>\n",
       "    <tr>\n",
       "      <th>2</th>\n",
       "      <td>0.088021</td>\n",
       "      <td>0.088542</td>\n",
       "      <td>0.081250</td>\n",
       "      <td>0.085417</td>\n",
       "      <td>122136000</td>\n",
       "      <td>1997-05-19</td>\n",
       "    </tr>\n",
       "    <tr>\n",
       "      <th>3</th>\n",
       "      <td>0.086458</td>\n",
       "      <td>0.087500</td>\n",
       "      <td>0.081771</td>\n",
       "      <td>0.081771</td>\n",
       "      <td>109344000</td>\n",
       "      <td>1997-05-20</td>\n",
       "    </tr>\n",
       "    <tr>\n",
       "      <th>4</th>\n",
       "      <td>0.081771</td>\n",
       "      <td>0.082292</td>\n",
       "      <td>0.068750</td>\n",
       "      <td>0.071354</td>\n",
       "      <td>377064000</td>\n",
       "      <td>1997-05-21</td>\n",
       "    </tr>\n",
       "  </tbody>\n",
       "</table>\n",
       "</div>"
      ],
      "text/plain": [
       "       Open      High       Low     Close      Volume       ndate\n",
       "0  0.121875  0.125000  0.096354  0.097917  1443120000  1997-05-15\n",
       "1  0.098438  0.098958  0.085417  0.086458   294000000  1997-05-16\n",
       "2  0.088021  0.088542  0.081250  0.085417   122136000  1997-05-19\n",
       "3  0.086458  0.087500  0.081771  0.081771   109344000  1997-05-20\n",
       "4  0.081771  0.082292  0.068750  0.071354   377064000  1997-05-21"
      ]
     },
     "execution_count": 23,
     "metadata": {},
     "output_type": "execute_result"
    }
   ],
   "source": [
    "# arimaData\n",
    "data['Date'] = pd.to_datetime(data['Date'], utc=True, errors='coerce')\n",
    "data['ndate'] = data['Date'].dt.date\n",
    "# data['time'] = data['Date'].dt.time\n",
    "data.drop(columns = ['Dividends', 'Stock Splits', 'Date'], inplace = True)\n",
    "data.info()\n",
    "data.head()"
   ]
  },
  {
   "cell_type": "code",
   "execution_count": 24,
   "id": "f091210a",
   "metadata": {
    "execution": {
     "iopub.execute_input": "2025-05-17T17:48:45.623788Z",
     "iopub.status.busy": "2025-05-17T17:48:45.623433Z",
     "iopub.status.idle": "2025-05-17T17:48:45.635948Z",
     "shell.execute_reply": "2025-05-17T17:48:45.635025Z"
    },
    "papermill": {
     "duration": 0.026539,
     "end_time": "2025-05-17T17:48:45.637533",
     "exception": false,
     "start_time": "2025-05-17T17:48:45.610994",
     "status": "completed"
    },
    "tags": []
   },
   "outputs": [
    {
     "data": {
      "text/html": [
       "<div>\n",
       "<style scoped>\n",
       "    .dataframe tbody tr th:only-of-type {\n",
       "        vertical-align: middle;\n",
       "    }\n",
       "\n",
       "    .dataframe tbody tr th {\n",
       "        vertical-align: top;\n",
       "    }\n",
       "\n",
       "    .dataframe thead th {\n",
       "        text-align: right;\n",
       "    }\n",
       "</style>\n",
       "<table border=\"1\" class=\"dataframe\">\n",
       "  <thead>\n",
       "    <tr style=\"text-align: right;\">\n",
       "      <th></th>\n",
       "      <th>Close</th>\n",
       "    </tr>\n",
       "    <tr>\n",
       "      <th>ndate</th>\n",
       "      <th></th>\n",
       "    </tr>\n",
       "  </thead>\n",
       "  <tbody>\n",
       "    <tr>\n",
       "      <th>1997-05-15</th>\n",
       "      <td>0.097917</td>\n",
       "    </tr>\n",
       "    <tr>\n",
       "      <th>1997-05-16</th>\n",
       "      <td>0.086458</td>\n",
       "    </tr>\n",
       "    <tr>\n",
       "      <th>1997-05-19</th>\n",
       "      <td>0.085417</td>\n",
       "    </tr>\n",
       "    <tr>\n",
       "      <th>1997-05-20</th>\n",
       "      <td>0.081771</td>\n",
       "    </tr>\n",
       "    <tr>\n",
       "      <th>1997-05-21</th>\n",
       "      <td>0.071354</td>\n",
       "    </tr>\n",
       "  </tbody>\n",
       "</table>\n",
       "</div>"
      ],
      "text/plain": [
       "               Close\n",
       "ndate               \n",
       "1997-05-15  0.097917\n",
       "1997-05-16  0.086458\n",
       "1997-05-19  0.085417\n",
       "1997-05-20  0.081771\n",
       "1997-05-21  0.071354"
      ]
     },
     "execution_count": 24,
     "metadata": {},
     "output_type": "execute_result"
    }
   ],
   "source": [
    "data['ndate'] = pd.to_datetime(data['ndate'])\n",
    "data.set_index('ndate', inplace=True)\n",
    "\n",
    "adata = data[['Close']]\n",
    "adata.head()"
   ]
  },
  {
   "cell_type": "code",
   "execution_count": 25,
   "id": "1d9cdefe",
   "metadata": {
    "execution": {
     "iopub.execute_input": "2025-05-17T17:48:45.663940Z",
     "iopub.status.busy": "2025-05-17T17:48:45.663617Z",
     "iopub.status.idle": "2025-05-17T17:48:46.373858Z",
     "shell.execute_reply": "2025-05-17T17:48:46.372605Z"
    },
    "papermill": {
     "duration": 0.725094,
     "end_time": "2025-05-17T17:48:46.375362",
     "exception": false,
     "start_time": "2025-05-17T17:48:45.650268",
     "status": "completed"
    },
    "tags": []
   },
   "outputs": [
    {
     "name": "stdout",
     "output_type": "stream",
     "text": [
      "ADF Statistic: 1.654464248032809\n",
      "p-value: 0.9980121134706945\n"
     ]
    }
   ],
   "source": [
    "from statsmodels.tsa.stattools import adfuller\n",
    "\n",
    "result = adfuller(adata['Close'])\n",
    "print(f'ADF Statistic: {result[0]}')\n",
    "print(f'p-value: {result[1]}')\n",
    "\n",
    "# Interpretation:\n",
    "# If p-value < 0.05: data is stationary (you can use it as-is)\n",
    "# If p-value >= 0.05: data is non-stationary (you need differencing)"
   ]
  },
  {
   "cell_type": "code",
   "execution_count": 26,
   "id": "6fd23a72",
   "metadata": {
    "execution": {
     "iopub.execute_input": "2025-05-17T17:48:46.400042Z",
     "iopub.status.busy": "2025-05-17T17:48:46.399546Z",
     "iopub.status.idle": "2025-05-17T17:48:46.643733Z",
     "shell.execute_reply": "2025-05-17T17:48:46.642706Z"
    },
    "papermill": {
     "duration": 0.258372,
     "end_time": "2025-05-17T17:48:46.645551",
     "exception": false,
     "start_time": "2025-05-17T17:48:46.387179",
     "status": "completed"
    },
    "tags": []
   },
   "outputs": [
    {
     "name": "stdout",
     "output_type": "stream",
     "text": [
      "Differenced ADF Statistic: -14.6773892414494\n",
      "Differenced p-value: 3.195753936964131e-27\n"
     ]
    },
    {
     "data": {
      "text/html": [
       "<div>\n",
       "<style scoped>\n",
       "    .dataframe tbody tr th:only-of-type {\n",
       "        vertical-align: middle;\n",
       "    }\n",
       "\n",
       "    .dataframe tbody tr th {\n",
       "        vertical-align: top;\n",
       "    }\n",
       "\n",
       "    .dataframe thead th {\n",
       "        text-align: right;\n",
       "    }\n",
       "</style>\n",
       "<table border=\"1\" class=\"dataframe\">\n",
       "  <thead>\n",
       "    <tr style=\"text-align: right;\">\n",
       "      <th></th>\n",
       "      <th>Close</th>\n",
       "    </tr>\n",
       "    <tr>\n",
       "      <th>ndate</th>\n",
       "      <th></th>\n",
       "    </tr>\n",
       "  </thead>\n",
       "  <tbody>\n",
       "    <tr>\n",
       "      <th>1997-05-16</th>\n",
       "      <td>-0.011459</td>\n",
       "    </tr>\n",
       "    <tr>\n",
       "      <th>1997-05-19</th>\n",
       "      <td>-0.001041</td>\n",
       "    </tr>\n",
       "    <tr>\n",
       "      <th>1997-05-20</th>\n",
       "      <td>-0.003646</td>\n",
       "    </tr>\n",
       "    <tr>\n",
       "      <th>1997-05-21</th>\n",
       "      <td>-0.010417</td>\n",
       "    </tr>\n",
       "    <tr>\n",
       "      <th>1997-05-22</th>\n",
       "      <td>-0.001562</td>\n",
       "    </tr>\n",
       "    <tr>\n",
       "      <th>...</th>\n",
       "      <td>...</td>\n",
       "    </tr>\n",
       "    <tr>\n",
       "      <th>2025-02-14</th>\n",
       "      <td>-1.690002</td>\n",
       "    </tr>\n",
       "    <tr>\n",
       "      <th>2025-02-18</th>\n",
       "      <td>-2.029999</td>\n",
       "    </tr>\n",
       "    <tr>\n",
       "      <th>2025-02-19</th>\n",
       "      <td>-0.019989</td>\n",
       "    </tr>\n",
       "    <tr>\n",
       "      <th>2025-02-20</th>\n",
       "      <td>-3.750000</td>\n",
       "    </tr>\n",
       "    <tr>\n",
       "      <th>2025-02-21</th>\n",
       "      <td>-6.300003</td>\n",
       "    </tr>\n",
       "  </tbody>\n",
       "</table>\n",
       "<p>6986 rows × 1 columns</p>\n",
       "</div>"
      ],
      "text/plain": [
       "               Close\n",
       "ndate               \n",
       "1997-05-16 -0.011459\n",
       "1997-05-19 -0.001041\n",
       "1997-05-20 -0.003646\n",
       "1997-05-21 -0.010417\n",
       "1997-05-22 -0.001562\n",
       "...              ...\n",
       "2025-02-14 -1.690002\n",
       "2025-02-18 -2.029999\n",
       "2025-02-19 -0.019989\n",
       "2025-02-20 -3.750000\n",
       "2025-02-21 -6.300003\n",
       "\n",
       "[6986 rows x 1 columns]"
      ]
     },
     "execution_count": 26,
     "metadata": {},
     "output_type": "execute_result"
    }
   ],
   "source": [
    "# differencing\n",
    "ts_data_diff = adata.diff().dropna()\n",
    "\n",
    "# Check stationarity again\n",
    "result = adfuller(ts_data_diff['Close'])\n",
    "print(f'Differenced ADF Statistic: {result[0]}')\n",
    "print(f'Differenced p-value: {result[1]}')\n",
    "ts_data_diff"
   ]
  },
  {
   "cell_type": "code",
   "execution_count": 27,
   "id": "3654f5be",
   "metadata": {
    "execution": {
     "iopub.execute_input": "2025-05-17T17:48:46.671543Z",
     "iopub.status.busy": "2025-05-17T17:48:46.671172Z",
     "iopub.status.idle": "2025-05-17T17:48:52.367734Z",
     "shell.execute_reply": "2025-05-17T17:48:52.365850Z"
    },
    "papermill": {
     "duration": 5.712468,
     "end_time": "2025-05-17T17:48:52.370096",
     "exception": false,
     "start_time": "2025-05-17T17:48:46.657628",
     "status": "completed"
    },
    "tags": []
   },
   "outputs": [
    {
     "name": "stdout",
     "output_type": "stream",
     "text": [
      "\u001b[2K   \u001b[90m━━━━━━━━━━━━━━━━━━━━━━━━━━━━━━━━━━━━━━━━\u001b[0m \u001b[32m2.2/2.2 MB\u001b[0m \u001b[31m21.6 MB/s\u001b[0m eta \u001b[36m0:00:00\u001b[0m\r\n",
      "\u001b[?25h"
     ]
    }
   ],
   "source": [
    "!pip install pmdarima --quiet"
   ]
  },
  {
   "cell_type": "code",
   "execution_count": 28,
   "id": "74e181e7",
   "metadata": {
    "execution": {
     "iopub.execute_input": "2025-05-17T17:48:52.396353Z",
     "iopub.status.busy": "2025-05-17T17:48:52.395975Z",
     "iopub.status.idle": "2025-05-17T17:48:52.404643Z",
     "shell.execute_reply": "2025-05-17T17:48:52.403876Z"
    },
    "papermill": {
     "duration": 0.023901,
     "end_time": "2025-05-17T17:48:52.406114",
     "exception": false,
     "start_time": "2025-05-17T17:48:52.382213",
     "status": "completed"
    },
    "tags": []
   },
   "outputs": [],
   "source": [
    "train_size = int(len(adata)*0.70)\n",
    "train_data = adata.iloc[:train_size]\n",
    "test_data = adata.iloc[train_size:]"
   ]
  },
  {
   "cell_type": "code",
   "execution_count": 29,
   "id": "c9c34a39",
   "metadata": {
    "execution": {
     "iopub.execute_input": "2025-05-17T17:48:52.431081Z",
     "iopub.status.busy": "2025-05-17T17:48:52.430757Z",
     "iopub.status.idle": "2025-05-17T17:50:25.551797Z",
     "shell.execute_reply": "2025-05-17T17:50:25.549054Z"
    },
    "papermill": {
     "duration": 93.136001,
     "end_time": "2025-05-17T17:50:25.554108",
     "exception": false,
     "start_time": "2025-05-17T17:48:52.418107",
     "status": "completed"
    },
    "tags": []
   },
   "outputs": [
    {
     "name": "stdout",
     "output_type": "stream",
     "text": [
      "Performing stepwise search to minimize aic\n",
      " ARIMA(2,2,2)(0,0,0)[0] intercept   : AIC=inf, Time=11.47 sec\n",
      " ARIMA(0,2,0)(0,0,0)[0] intercept   : AIC=2579.585, Time=0.46 sec\n",
      " ARIMA(1,2,0)(0,0,0)[0] intercept   : AIC=1224.439, Time=0.30 sec\n",
      " ARIMA(0,2,1)(0,0,0)[0] intercept   : AIC=inf, Time=4.51 sec\n",
      " ARIMA(0,2,0)(0,0,0)[0]             : AIC=2577.585, Time=0.23 sec\n",
      " ARIMA(2,2,0)(0,0,0)[0] intercept   : AIC=696.996, Time=0.76 sec\n",
      " ARIMA(3,2,0)(0,0,0)[0] intercept   : AIC=408.646, Time=1.98 sec\n",
      " ARIMA(4,2,0)(0,0,0)[0] intercept   : AIC=152.697, Time=2.07 sec\n",
      " ARIMA(5,2,0)(0,0,0)[0] intercept   : AIC=14.898, Time=2.39 sec\n",
      " ARIMA(5,2,1)(0,0,0)[0] intercept   : AIC=-759.894, Time=15.28 sec\n",
      " ARIMA(4,2,1)(0,0,0)[0] intercept   : AIC=inf, Time=13.79 sec\n",
      " ARIMA(5,2,2)(0,0,0)[0] intercept   : AIC=inf, Time=18.30 sec\n",
      " ARIMA(4,2,2)(0,0,0)[0] intercept   : AIC=inf, Time=15.29 sec\n",
      " ARIMA(5,2,1)(0,0,0)[0]             : AIC=inf, Time=4.42 sec\n",
      "\n",
      "Best model:  ARIMA(5,2,1)(0,0,0)[0] intercept\n",
      "Total fit time: 91.274 seconds\n",
      "                               SARIMAX Results                                \n",
      "==============================================================================\n",
      "Dep. Variable:                      y   No. Observations:                 4890\n",
      "Model:               SARIMAX(5, 2, 1)   Log Likelihood                 387.947\n",
      "Date:                Sat, 17 May 2025   AIC                           -759.894\n",
      "Time:                        17:50:25   BIC                           -707.938\n",
      "Sample:                             0   HQIC                          -741.664\n",
      "                               - 4890                                         \n",
      "Covariance Type:                  opg                                         \n",
      "==============================================================================\n",
      "                 coef    std err          z      P>|z|      [0.025      0.975]\n",
      "------------------------------------------------------------------------------\n",
      "intercept   1.034e-05   3.58e-05      0.288      0.773   -5.99e-05    8.06e-05\n",
      "ar.L1         -0.0180      0.005     -3.386      0.001      -0.028      -0.008\n",
      "ar.L2          0.0114      0.007      1.690      0.091      -0.002       0.025\n",
      "ar.L3         -0.0613      0.007     -9.149      0.000      -0.074      -0.048\n",
      "ar.L4         -0.0254      0.007     -3.842      0.000      -0.038      -0.012\n",
      "ar.L5          0.0109      0.007      1.586      0.113      -0.003       0.024\n",
      "ma.L1         -0.9893      0.002   -606.833      0.000      -0.992      -0.986\n",
      "sigma2         0.0498      0.000    194.619      0.000       0.049       0.050\n",
      "===================================================================================\n",
      "Ljung-Box (L1) (Q):                   0.66   Jarque-Bera (JB):            220307.27\n",
      "Prob(Q):                              0.42   Prob(JB):                         0.00\n",
      "Heteroskedasticity (H):               9.75   Skew:                             0.68\n",
      "Prob(H) (two-sided):                  0.00   Kurtosis:                        35.86\n",
      "===================================================================================\n",
      "\n",
      "Warnings:\n",
      "[1] Covariance matrix calculated using the outer product of gradients (complex-step).\n"
     ]
    }
   ],
   "source": [
    "from pmdarima import auto_arima\n",
    "\n",
    "model = auto_arima(train_data,\n",
    "                   seasonal=False,\n",
    "                   stepwise=True,\n",
    "                   suppress_warnings=True,\n",
    "                   trace=True)\n",
    "print(model.summary())\n"
   ]
  },
  {
   "cell_type": "markdown",
   "id": "3940e659",
   "metadata": {
    "papermill": {
     "duration": 0.020576,
     "end_time": "2025-05-17T17:50:25.597183",
     "exception": false,
     "start_time": "2025-05-17T17:50:25.576607",
     "status": "completed"
    },
    "tags": []
   },
   "source": [
    "- output the best (p, d, q)\n",
    "- ARIMA(0,1,1) = no autoregressive (AR) terms, differencing once (d=1), one moving average (MA) term."
   ]
  },
  {
   "cell_type": "code",
   "execution_count": 30,
   "id": "a52e8725",
   "metadata": {
    "execution": {
     "iopub.execute_input": "2025-05-17T17:50:25.623883Z",
     "iopub.status.busy": "2025-05-17T17:50:25.623348Z",
     "iopub.status.idle": "2025-05-17T17:50:25.628122Z",
     "shell.execute_reply": "2025-05-17T17:50:25.627222Z"
    },
    "papermill": {
     "duration": 0.019756,
     "end_time": "2025-05-17T17:50:25.629671",
     "exception": false,
     "start_time": "2025-05-17T17:50:25.609915",
     "status": "completed"
    },
    "tags": []
   },
   "outputs": [],
   "source": [
    "# Best model:  ARIMA(5,2,1)(0,0,0)[0] intercept"
   ]
  },
  {
   "cell_type": "code",
   "execution_count": 31,
   "id": "fccc780d",
   "metadata": {
    "execution": {
     "iopub.execute_input": "2025-05-17T17:50:25.657064Z",
     "iopub.status.busy": "2025-05-17T17:50:25.656211Z",
     "iopub.status.idle": "2025-05-17T17:50:30.114076Z",
     "shell.execute_reply": "2025-05-17T17:50:30.113300Z"
    },
    "papermill": {
     "duration": 4.473775,
     "end_time": "2025-05-17T17:50:30.116143",
     "exception": false,
     "start_time": "2025-05-17T17:50:25.642368",
     "status": "completed"
    },
    "tags": []
   },
   "outputs": [
    {
     "name": "stderr",
     "output_type": "stream",
     "text": [
      "/usr/local/lib/python3.11/dist-packages/statsmodels/tsa/base/tsa_model.py:473: ValueWarning: A date index has been provided, but it has no associated frequency information and so will be ignored when e.g. forecasting.\n",
      "  self._init_dates(dates, freq)\n",
      "/usr/local/lib/python3.11/dist-packages/statsmodels/tsa/base/tsa_model.py:473: ValueWarning: A date index has been provided, but it has no associated frequency information and so will be ignored when e.g. forecasting.\n",
      "  self._init_dates(dates, freq)\n",
      "/usr/local/lib/python3.11/dist-packages/statsmodels/tsa/base/tsa_model.py:473: ValueWarning: A date index has been provided, but it has no associated frequency information and so will be ignored when e.g. forecasting.\n",
      "  self._init_dates(dates, freq)\n"
     ]
    },
    {
     "name": "stdout",
     "output_type": "stream",
     "text": [
      "                               SARIMAX Results                                \n",
      "==============================================================================\n",
      "Dep. Variable:                  Close   No. Observations:                 4890\n",
      "Model:                 ARIMA(5, 2, 1)   Log Likelihood                 402.847\n",
      "Date:                Sat, 17 May 2025   AIC                           -791.695\n",
      "Time:                        17:50:30   BIC                           -746.233\n",
      "Sample:                             0   HQIC                          -775.743\n",
      "                               - 4890                                         \n",
      "Covariance Type:                  opg                                         \n",
      "==============================================================================\n",
      "                 coef    std err          z      P>|z|      [0.025      0.975]\n",
      "------------------------------------------------------------------------------\n",
      "ar.L1         -0.0004      0.005     -0.076      0.940      -0.011       0.010\n",
      "ar.L2         -0.0147      0.007     -2.208      0.027      -0.028      -0.002\n",
      "ar.L3         -0.0291      0.007     -4.359      0.000      -0.042      -0.016\n",
      "ar.L4         -0.0336      0.007     -5.006      0.000      -0.047      -0.020\n",
      "ar.L5          0.0079      0.007      1.183      0.237      -0.005       0.021\n",
      "ma.L1         -0.9981      0.001  -1559.996      0.000      -0.999      -0.997\n",
      "sigma2         0.0496      0.000    195.385      0.000       0.049       0.050\n",
      "===================================================================================\n",
      "Ljung-Box (L1) (Q):                   0.00   Jarque-Bera (JB):            235157.40\n",
      "Prob(Q):                              0.98   Prob(JB):                         0.00\n",
      "Heteroskedasticity (H):               9.85   Skew:                             0.75\n",
      "Prob(H) (two-sided):                  0.00   Kurtosis:                        36.95\n",
      "===================================================================================\n",
      "\n",
      "Warnings:\n",
      "[1] Covariance matrix calculated using the outer product of gradients (complex-step).\n"
     ]
    }
   ],
   "source": [
    "from statsmodels.tsa.arima.model import ARIMA\n",
    "\n",
    "model = ARIMA(train_data, order=(5, 2, 1))\n",
    "model_fit = model.fit()\n",
    "print(model_fit.summary())"
   ]
  },
  {
   "cell_type": "code",
   "execution_count": 32,
   "id": "0c38c03a",
   "metadata": {
    "execution": {
     "iopub.execute_input": "2025-05-17T17:50:30.160972Z",
     "iopub.status.busy": "2025-05-17T17:50:30.160620Z",
     "iopub.status.idle": "2025-05-17T17:50:30.231697Z",
     "shell.execute_reply": "2025-05-17T17:50:30.230848Z"
    },
    "papermill": {
     "duration": 0.095258,
     "end_time": "2025-05-17T17:50:30.233089",
     "exception": false,
     "start_time": "2025-05-17T17:50:30.137831",
     "status": "completed"
    },
    "tags": []
   },
   "outputs": [
    {
     "name": "stdout",
     "output_type": "stream",
     "text": [
      "MAE: 42.85407\n",
      "RMSE: 53.90237\n"
     ]
    },
    {
     "name": "stderr",
     "output_type": "stream",
     "text": [
      "/usr/local/lib/python3.11/dist-packages/statsmodels/tsa/base/tsa_model.py:837: ValueWarning: No supported index is available. Prediction results will be given with an integer index beginning at `start`.\n",
      "  return get_prediction_index(\n",
      "/usr/local/lib/python3.11/dist-packages/statsmodels/tsa/base/tsa_model.py:837: FutureWarning: No supported index is available. In the next version, calling this method in a model without a supported index will result in an exception.\n",
      "  return get_prediction_index(\n"
     ]
    },
    {
     "data": {
      "text/plain": [
       "ndate\n",
       "2016-10-19     40.944784\n",
       "2016-10-20     41.001084\n",
       "2016-10-21     41.044099\n",
       "2016-10-24     41.066082\n",
       "2016-10-25     41.100054\n",
       "                 ...    \n",
       "2025-02-14    112.310645\n",
       "2025-02-18    112.344750\n",
       "2025-02-19    112.378854\n",
       "2025-02-20    112.412959\n",
       "2025-02-21    112.447064\n",
       "Name: predicted_mean, Length: 2097, dtype: float64"
      ]
     },
     "execution_count": 32,
     "metadata": {},
     "output_type": "execute_result"
    }
   ],
   "source": [
    "forecast = model_fit.forecast(steps=len(test_data))\n",
    "\n",
    "# align forecast index with test data\n",
    "forecast.index = test_data.index\n",
    "from sklearn.metrics import mean_squared_error, mean_absolute_error\n",
    "import numpy as np\n",
    "mae = mean_absolute_error(test_data, forecast)\n",
    "rmse = np.sqrt(mean_squared_error(test_data, forecast))\n",
    "\n",
    "print(f'MAE: {mae:.5f}')\n",
    "print(f'RMSE: {rmse:.5f}')\n",
    "forecast"
   ]
  },
  {
   "cell_type": "markdown",
   "id": "3a6d7210",
   "metadata": {
    "papermill": {
     "duration": 0.012512,
     "end_time": "2025-05-17T17:50:30.258532",
     "exception": false,
     "start_time": "2025-05-17T17:50:30.246020",
     "status": "completed"
    },
    "tags": []
   },
   "source": [
    "- MAE: 42.85407\n",
    "- RMSE: 53.90237"
   ]
  },
  {
   "cell_type": "code",
   "execution_count": 33,
   "id": "8eac6e39",
   "metadata": {
    "execution": {
     "iopub.execute_input": "2025-05-17T17:50:30.286867Z",
     "iopub.status.busy": "2025-05-17T17:50:30.286456Z",
     "iopub.status.idle": "2025-05-17T17:50:30.565902Z",
     "shell.execute_reply": "2025-05-17T17:50:30.564913Z"
    },
    "papermill": {
     "duration": 0.29525,
     "end_time": "2025-05-17T17:50:30.567257",
     "exception": false,
     "start_time": "2025-05-17T17:50:30.272007",
     "status": "completed"
    },
    "tags": []
   },
   "outputs": [
    {
     "data": {
      "image/png": "[encoded data removed]",
      "text/plain": [
       "<Figure size 1200x600 with 1 Axes>"
      ]
     },
     "metadata": {},
     "output_type": "display_data"
    }
   ],
   "source": [
    "# forecast = model_fit.forecast(steps=30)\n",
    "\n",
    "# Plot forecast\n",
    "import matplotlib.pyplot as plt\n",
    "plt.figure(figsize=(12, 6))\n",
    "plt.plot(adata, label='Historical')\n",
    "plt.plot(forecast.index, forecast, label='30% prediction', color='red')\n",
    "plt.title('ARIMA Forecast')\n",
    "plt.xlabel('Date')\n",
    "plt.ylabel('Close Price')\n",
    "plt.legend()\n",
    "plt.show()"
   ]
  },
  {
   "cell_type": "markdown",
   "id": "e742b186",
   "metadata": {
    "papermill": {
     "duration": 0.014604,
     "end_time": "2025-05-17T17:50:30.596299",
     "exception": false,
     "start_time": "2025-05-17T17:50:30.581695",
     "status": "completed"
    },
    "tags": []
   },
   "source": [
    "# LSTM"
   ]
  },
  {
   "cell_type": "code",
   "execution_count": 34,
   "id": "49727b2a",
   "metadata": {
    "execution": {
     "iopub.execute_input": "2025-05-17T17:50:30.625209Z",
     "iopub.status.busy": "2025-05-17T17:50:30.624868Z",
     "iopub.status.idle": "2025-05-17T17:50:30.642811Z",
     "shell.execute_reply": "2025-05-17T17:50:30.641665Z"
    },
    "papermill": {
     "duration": 0.034043,
     "end_time": "2025-05-17T17:50:30.644211",
     "exception": false,
     "start_time": "2025-05-17T17:50:30.610168",
     "status": "completed"
    },
    "tags": []
   },
   "outputs": [
    {
     "name": "stdout",
     "output_type": "stream",
     "text": [
      "<class 'pandas.core.frame.DataFrame'>\n",
      "DatetimeIndex: 6987 entries, 1997-05-15 to 2025-02-21\n",
      "Data columns (total 1 columns):\n",
      " #   Column  Non-Null Count  Dtype  \n",
      "---  ------  --------------  -----  \n",
      " 0   Close   6987 non-null   float64\n",
      "dtypes: float64(1)\n",
      "memory usage: 109.2 KB\n"
     ]
    },
    {
     "data": {
      "text/html": [
       "<div>\n",
       "<style scoped>\n",
       "    .dataframe tbody tr th:only-of-type {\n",
       "        vertical-align: middle;\n",
       "    }\n",
       "\n",
       "    .dataframe tbody tr th {\n",
       "        vertical-align: top;\n",
       "    }\n",
       "\n",
       "    .dataframe thead th {\n",
       "        text-align: right;\n",
       "    }\n",
       "</style>\n",
       "<table border=\"1\" class=\"dataframe\">\n",
       "  <thead>\n",
       "    <tr style=\"text-align: right;\">\n",
       "      <th></th>\n",
       "      <th>Close</th>\n",
       "    </tr>\n",
       "    <tr>\n",
       "      <th>ndate</th>\n",
       "      <th></th>\n",
       "    </tr>\n",
       "  </thead>\n",
       "  <tbody>\n",
       "    <tr>\n",
       "      <th>1997-05-15</th>\n",
       "      <td>0.097917</td>\n",
       "    </tr>\n",
       "    <tr>\n",
       "      <th>1997-05-16</th>\n",
       "      <td>0.086458</td>\n",
       "    </tr>\n",
       "    <tr>\n",
       "      <th>1997-05-19</th>\n",
       "      <td>0.085417</td>\n",
       "    </tr>\n",
       "    <tr>\n",
       "      <th>1997-05-20</th>\n",
       "      <td>0.081771</td>\n",
       "    </tr>\n",
       "    <tr>\n",
       "      <th>1997-05-21</th>\n",
       "      <td>0.071354</td>\n",
       "    </tr>\n",
       "    <tr>\n",
       "      <th>...</th>\n",
       "      <td>...</td>\n",
       "    </tr>\n",
       "    <tr>\n",
       "      <th>2025-02-14</th>\n",
       "      <td>228.679993</td>\n",
       "    </tr>\n",
       "    <tr>\n",
       "      <th>2025-02-18</th>\n",
       "      <td>226.649994</td>\n",
       "    </tr>\n",
       "    <tr>\n",
       "      <th>2025-02-19</th>\n",
       "      <td>226.630005</td>\n",
       "    </tr>\n",
       "    <tr>\n",
       "      <th>2025-02-20</th>\n",
       "      <td>222.880005</td>\n",
       "    </tr>\n",
       "    <tr>\n",
       "      <th>2025-02-21</th>\n",
       "      <td>216.580002</td>\n",
       "    </tr>\n",
       "  </tbody>\n",
       "</table>\n",
       "<p>6987 rows × 1 columns</p>\n",
       "</div>"
      ],
      "text/plain": [
       "                 Close\n",
       "ndate                 \n",
       "1997-05-15    0.097917\n",
       "1997-05-16    0.086458\n",
       "1997-05-19    0.085417\n",
       "1997-05-20    0.081771\n",
       "1997-05-21    0.071354\n",
       "...                ...\n",
       "2025-02-14  228.679993\n",
       "2025-02-18  226.649994\n",
       "2025-02-19  226.630005\n",
       "2025-02-20  222.880005\n",
       "2025-02-21  216.580002\n",
       "\n",
       "[6987 rows x 1 columns]"
      ]
     },
     "execution_count": 34,
     "metadata": {},
     "output_type": "execute_result"
    }
   ],
   "source": [
    "adata.info()\n",
    "ldata = adata.copy()\n",
    "# df.Close\n",
    "ldata"
   ]
  },
  {
   "cell_type": "code",
   "execution_count": 35,
   "id": "3d1f181f",
   "metadata": {
    "execution": {
     "iopub.execute_input": "2025-05-17T17:50:30.676121Z",
     "iopub.status.busy": "2025-05-17T17:50:30.675436Z",
     "iopub.status.idle": "2025-05-17T17:50:30.685475Z",
     "shell.execute_reply": "2025-05-17T17:50:30.684521Z"
    },
    "papermill": {
     "duration": 0.028006,
     "end_time": "2025-05-17T17:50:30.687143",
     "exception": false,
     "start_time": "2025-05-17T17:50:30.659137",
     "status": "completed"
    },
    "tags": []
   },
   "outputs": [
    {
     "data": {
      "text/plain": [
       "array([[-0.69832139],\n",
       "       [-0.69851855],\n",
       "       [-0.69853646],\n",
       "       ...,\n",
       "       [ 1.46754061],\n",
       "       [ 1.46754061],\n",
       "       [ 1.46754061]])"
      ]
     },
     "execution_count": 35,
     "metadata": {},
     "output_type": "execute_result"
    }
   ],
   "source": [
    "dataset = np.array(ldata).reshape(-1,1)\n",
    "tlen = int(len(dataset)*0.95)\n",
    "# tlen\n",
    "dataset\n",
    "from sklearn.preprocessing import StandardScaler\n",
    "scaler = StandardScaler()\n",
    "scaleddata = scaler.fit_transform(dataset)\n",
    "traindata = scaleddata[:tlen]\n",
    "traindata"
   ]
  },
  {
   "cell_type": "code",
   "execution_count": 36,
   "id": "905a8998",
   "metadata": {
    "execution": {
     "iopub.execute_input": "2025-05-17T17:50:30.717545Z",
     "iopub.status.busy": "2025-05-17T17:50:30.717206Z",
     "iopub.status.idle": "2025-05-17T17:50:30.733199Z",
     "shell.execute_reply": "2025-05-17T17:50:30.732167Z"
    },
    "papermill": {
     "duration": 0.033891,
     "end_time": "2025-05-17T17:50:30.735344",
     "exception": false,
     "start_time": "2025-05-17T17:50:30.701453",
     "status": "completed"
    },
    "tags": []
   },
   "outputs": [],
   "source": [
    "xtrain, ytrain = [], []\n",
    "for i in range(60, tlen):\n",
    "    xtrain.append(traindata[i-60:i, 0])\n",
    "    ytrain.append(traindata[i,0])\n",
    "xtrain, ytrain = np.array(xtrain), np.array(ytrain)\n",
    "# xtrain[:2]"
   ]
  },
  {
   "cell_type": "code",
   "execution_count": 37,
   "id": "86e413b3",
   "metadata": {
    "execution": {
     "iopub.execute_input": "2025-05-17T17:50:30.770566Z",
     "iopub.status.busy": "2025-05-17T17:50:30.770234Z",
     "iopub.status.idle": "2025-05-17T17:50:30.775781Z",
     "shell.execute_reply": "2025-05-17T17:50:30.774830Z"
    },
    "papermill": {
     "duration": 0.022284,
     "end_time": "2025-05-17T17:50:30.777090",
     "exception": false,
     "start_time": "2025-05-17T17:50:30.754806",
     "status": "completed"
    },
    "tags": []
   },
   "outputs": [
    {
     "name": "stdout",
     "output_type": "stream",
     "text": [
      "(6577, 60)\n",
      "(6577, 60, 1)\n",
      "(6577,)\n"
     ]
    }
   ],
   "source": [
    "print(xtrain.shape)\n",
    "xtrain = np.reshape(xtrain, (xtrain.shape[0], xtrain.shape[1], 1))\n",
    "print(xtrain.shape)\n",
    "print(ytrain.shape)"
   ]
  },
  {
   "cell_type": "code",
   "execution_count": 38,
   "id": "dd7d5cae",
   "metadata": {
    "execution": {
     "iopub.execute_input": "2025-05-17T17:50:30.810197Z",
     "iopub.status.busy": "2025-05-17T17:50:30.809295Z",
     "iopub.status.idle": "2025-05-17T17:50:30.813313Z",
     "shell.execute_reply": "2025-05-17T17:50:30.812445Z"
    },
    "papermill": {
     "duration": 0.022225,
     "end_time": "2025-05-17T17:50:30.814966",
     "exception": false,
     "start_time": "2025-05-17T17:50:30.792741",
     "status": "completed"
    },
    "tags": []
   },
   "outputs": [],
   "source": [
    "# train_size\n",
    "# traindata = pd.DataFrame(ldata['Close'][0:train_size])\n",
    "# testdata = pd.DataFrame(ldata['Close'][train_size:len(ldata)])\n",
    "# print(traindata.shape, testdata.shape)"
   ]
  },
  {
   "cell_type": "code",
   "execution_count": 39,
   "id": "e33ba0bd",
   "metadata": {
    "execution": {
     "iopub.execute_input": "2025-05-17T17:50:30.845051Z",
     "iopub.status.busy": "2025-05-17T17:50:30.844727Z",
     "iopub.status.idle": "2025-05-17T17:50:30.849153Z",
     "shell.execute_reply": "2025-05-17T17:50:30.848147Z"
    },
    "papermill": {
     "duration": 0.021208,
     "end_time": "2025-05-17T17:50:30.850660",
     "exception": false,
     "start_time": "2025-05-17T17:50:30.829452",
     "status": "completed"
    },
    "tags": []
   },
   "outputs": [],
   "source": [
    "# from sklearn.preprocessing import MinMaxScaler\n",
    "# scaler = MinMaxScaler(feature_range=(0,1))\n",
    "# scaled_traindata = scaler.fit_transform(traindata)\n",
    "# print(traindata.head(), scaled_traindata[:5])"
   ]
  },
  {
   "cell_type": "code",
   "execution_count": 40,
   "id": "bf527832",
   "metadata": {
    "execution": {
     "iopub.execute_input": "2025-05-17T17:50:30.880894Z",
     "iopub.status.busy": "2025-05-17T17:50:30.880080Z",
     "iopub.status.idle": "2025-05-17T17:50:30.884567Z",
     "shell.execute_reply": "2025-05-17T17:50:30.883606Z"
    },
    "papermill": {
     "duration": 0.021284,
     "end_time": "2025-05-17T17:50:30.886279",
     "exception": false,
     "start_time": "2025-05-17T17:50:30.864995",
     "status": "completed"
    },
    "tags": []
   },
   "outputs": [],
   "source": [
    "# xtrain, ytrain =[], []\n",
    "# for i in range(100, traindata.shape[0]):\n",
    "#     xtrain.append(scaled_traindata[i-100:i])\n",
    "#     ytrain.append(scaled_traindata[i,0])\n",
    "# xtrain, ytrain = np.array(xtrain), np.array(ytrain)\n",
    "# print(xtrain.shape, ytrain.shape, xtest.shape)"
   ]
  },
  {
   "cell_type": "code",
   "execution_count": 41,
   "id": "f939e428",
   "metadata": {
    "execution": {
     "iopub.execute_input": "2025-05-17T17:50:30.924890Z",
     "iopub.status.busy": "2025-05-17T17:50:30.924537Z",
     "iopub.status.idle": "2025-05-17T17:50:30.929908Z",
     "shell.execute_reply": "2025-05-17T17:50:30.928922Z"
    },
    "papermill": {
     "duration": 0.029408,
     "end_time": "2025-05-17T17:50:30.931615",
     "exception": false,
     "start_time": "2025-05-17T17:50:30.902207",
     "status": "completed"
    },
    "tags": []
   },
   "outputs": [
    {
     "name": "stdout",
     "output_type": "stream",
     "text": [
      "(6577, 60, 1) (1740, 38) (6577,) (1740,)\n"
     ]
    }
   ],
   "source": [
    "# xtrain = np.reshape(xtrain, (xtrain.shape[0], xtrain.shape[1], 1))\n",
    "# xtest = np.reshape(xtest, (xtest.shape[0], xtest.shape[1], 1))\n",
    "# ytrain = ytrain.reshape(-1, 1)\n",
    "\n",
    "print(xtrain.shape, xtest.shape, ytrain.shape, ytest.shape)"
   ]
  },
  {
   "cell_type": "code",
   "execution_count": 42,
   "id": "c7bb0f23",
   "metadata": {
    "execution": {
     "iopub.execute_input": "2025-05-17T17:50:30.975548Z",
     "iopub.status.busy": "2025-05-17T17:50:30.975172Z",
     "iopub.status.idle": "2025-05-17T17:50:49.350868Z",
     "shell.execute_reply": "2025-05-17T17:50:49.350012Z"
    },
    "papermill": {
     "duration": 18.395831,
     "end_time": "2025-05-17T17:50:49.352508",
     "exception": false,
     "start_time": "2025-05-17T17:50:30.956677",
     "status": "completed"
    },
    "tags": []
   },
   "outputs": [
    {
     "name": "stderr",
     "output_type": "stream",
     "text": [
      "2025-05-17 17:50:33.345616: E external/local_xla/xla/stream_executor/cuda/cuda_fft.cc:477] Unable to register cuFFT factory: Attempting to register factory for plugin cuFFT when one has already been registered\n",
      "WARNING: All log messages before absl::InitializeLog() is called are written to STDERR\n",
      "E0000 00:00:1747504233.613091      13 cuda_dnn.cc:8310] Unable to register cuDNN factory: Attempting to register factory for plugin cuDNN when one has already been registered\n",
      "E0000 00:00:1747504233.687028      13 cuda_blas.cc:1418] Unable to register cuBLAS factory: Attempting to register factory for plugin cuBLAS when one has already been registered\n",
      "2025-05-17 17:50:49.191861: E external/local_xla/xla/stream_executor/cuda/cuda_driver.cc:152] failed call to cuInit: INTERNAL: CUDA error: Failed call to cuInit: UNKNOWN ERROR (303)\n",
      "/usr/local/lib/python3.11/dist-packages/keras/src/layers/rnn/rnn.py:200: UserWarning: Do not pass an `input_shape`/`input_dim` argument to a layer. When using Sequential models, prefer using an `Input(shape)` object as the first layer in the model instead.\n",
      "  super().__init__(**kwargs)\n"
     ]
    },
    {
     "data": {
      "text/html": [
       "<pre style=\"white-space:pre;overflow-x:auto;line-height:normal;font-family:Menlo,'DejaVu Sans Mono',consolas,'Courier New',monospace\"><span style=\"font-weight: bold\">Model: \"sequential\"</span>\n",
       "</pre>\n"
      ],
      "text/plain": [
       "\u001b[1mModel: \"sequential\"\u001b[0m\n"
      ]
     },
     "metadata": {},
     "output_type": "display_data"
    },
    {
     "data": {
      "text/html": [
       "<pre style=\"white-space:pre;overflow-x:auto;line-height:normal;font-family:Menlo,'DejaVu Sans Mono',consolas,'Courier New',monospace\">┏━━━━━━━━━━━━━━━━━━━━━━━━━━━━━━━━━━━━━━┳━━━━━━━━━━━━━━━━━━━━━━━━━━━━━┳━━━━━━━━━━━━━━━━━┓\n",
       "┃<span style=\"font-weight: bold\"> Layer (type)                         </span>┃<span style=\"font-weight: bold\"> Output Shape                </span>┃<span style=\"font-weight: bold\">         Param # </span>┃\n",
       "┡━━━━━━━━━━━━━━━━━━━━━━━━━━━━━━━━━━━━━━╇━━━━━━━━━━━━━━━━━━━━━━━━━━━━━╇━━━━━━━━━━━━━━━━━┩\n",
       "│ lstm (<span style=\"color: #0087ff; text-decoration-color: #0087ff\">LSTM</span>)                          │ (<span style=\"color: #00d7ff; text-decoration-color: #00d7ff\">None</span>, <span style=\"color: #00af00; text-decoration-color: #00af00\">60</span>, <span style=\"color: #00af00; text-decoration-color: #00af00\">64</span>)              │          <span style=\"color: #00af00; text-decoration-color: #00af00\">16,896</span> │\n",
       "├──────────────────────────────────────┼─────────────────────────────┼─────────────────┤\n",
       "│ lstm_1 (<span style=\"color: #0087ff; text-decoration-color: #0087ff\">LSTM</span>)                        │ (<span style=\"color: #00d7ff; text-decoration-color: #00d7ff\">None</span>, <span style=\"color: #00af00; text-decoration-color: #00af00\">64</span>)                  │          <span style=\"color: #00af00; text-decoration-color: #00af00\">33,024</span> │\n",
       "├──────────────────────────────────────┼─────────────────────────────┼─────────────────┤\n",
       "│ dense (<span style=\"color: #0087ff; text-decoration-color: #0087ff\">Dense</span>)                        │ (<span style=\"color: #00d7ff; text-decoration-color: #00d7ff\">None</span>, <span style=\"color: #00af00; text-decoration-color: #00af00\">128</span>)                 │           <span style=\"color: #00af00; text-decoration-color: #00af00\">8,320</span> │\n",
       "├──────────────────────────────────────┼─────────────────────────────┼─────────────────┤\n",
       "│ dropout (<span style=\"color: #0087ff; text-decoration-color: #0087ff\">Dropout</span>)                    │ (<span style=\"color: #00d7ff; text-decoration-color: #00d7ff\">None</span>, <span style=\"color: #00af00; text-decoration-color: #00af00\">128</span>)                 │               <span style=\"color: #00af00; text-decoration-color: #00af00\">0</span> │\n",
       "├──────────────────────────────────────┼─────────────────────────────┼─────────────────┤\n",
       "│ dense_1 (<span style=\"color: #0087ff; text-decoration-color: #0087ff\">Dense</span>)                      │ (<span style=\"color: #00d7ff; text-decoration-color: #00d7ff\">None</span>, <span style=\"color: #00af00; text-decoration-color: #00af00\">1</span>)                   │             <span style=\"color: #00af00; text-decoration-color: #00af00\">129</span> │\n",
       "└──────────────────────────────────────┴─────────────────────────────┴─────────────────┘\n",
       "</pre>\n"
      ],
      "text/plain": [
       "┏━━━━━━━━━━━━━━━━━━━━━━━━━━━━━━━━━━━━━━┳━━━━━━━━━━━━━━━━━━━━━━━━━━━━━┳━━━━━━━━━━━━━━━━━┓\n",
       "┃\u001b[1m \u001b[0m\u001b[1mLayer (type)                        \u001b[0m\u001b[1m \u001b[0m┃\u001b[1m \u001b[0m\u001b[1mOutput Shape               \u001b[0m\u001b[1m \u001b[0m┃\u001b[1m \u001b[0m\u001b[1m        Param #\u001b[0m\u001b[1m \u001b[0m┃\n",
       "┡━━━━━━━━━━━━━━━━━━━━━━━━━━━━━━━━━━━━━━╇━━━━━━━━━━━━━━━━━━━━━━━━━━━━━╇━━━━━━━━━━━━━━━━━┩\n",
       "│ lstm (\u001b[38;5;33mLSTM\u001b[0m)                          │ (\u001b[38;5;45mNone\u001b[0m, \u001b[38;5;34m60\u001b[0m, \u001b[38;5;34m64\u001b[0m)              │          \u001b[38;5;34m16,896\u001b[0m │\n",
       "├──────────────────────────────────────┼─────────────────────────────┼─────────────────┤\n",
       "│ lstm_1 (\u001b[38;5;33mLSTM\u001b[0m)                        │ (\u001b[38;5;45mNone\u001b[0m, \u001b[38;5;34m64\u001b[0m)                  │          \u001b[38;5;34m33,024\u001b[0m │\n",
       "├──────────────────────────────────────┼─────────────────────────────┼─────────────────┤\n",
       "│ dense (\u001b[38;5;33mDense\u001b[0m)                        │ (\u001b[38;5;45mNone\u001b[0m, \u001b[38;5;34m128\u001b[0m)                 │           \u001b[38;5;34m8,320\u001b[0m │\n",
       "├──────────────────────────────────────┼─────────────────────────────┼─────────────────┤\n",
       "│ dropout (\u001b[38;5;33mDropout\u001b[0m)                    │ (\u001b[38;5;45mNone\u001b[0m, \u001b[38;5;34m128\u001b[0m)                 │               \u001b[38;5;34m0\u001b[0m │\n",
       "├──────────────────────────────────────┼─────────────────────────────┼─────────────────┤\n",
       "│ dense_1 (\u001b[38;5;33mDense\u001b[0m)                      │ (\u001b[38;5;45mNone\u001b[0m, \u001b[38;5;34m1\u001b[0m)                   │             \u001b[38;5;34m129\u001b[0m │\n",
       "└──────────────────────────────────────┴─────────────────────────────┴─────────────────┘\n"
      ]
     },
     "metadata": {},
     "output_type": "display_data"
    },
    {
     "data": {
      "text/html": [
       "<pre style=\"white-space:pre;overflow-x:auto;line-height:normal;font-family:Menlo,'DejaVu Sans Mono',consolas,'Courier New',monospace\"><span style=\"font-weight: bold\"> Total params: </span><span style=\"color: #00af00; text-decoration-color: #00af00\">58,369</span> (228.00 KB)\n",
       "</pre>\n"
      ],
      "text/plain": [
       "\u001b[1m Total params: \u001b[0m\u001b[38;5;34m58,369\u001b[0m (228.00 KB)\n"
      ]
     },
     "metadata": {},
     "output_type": "display_data"
    },
    {
     "data": {
      "text/html": [
       "<pre style=\"white-space:pre;overflow-x:auto;line-height:normal;font-family:Menlo,'DejaVu Sans Mono',consolas,'Courier New',monospace\"><span style=\"font-weight: bold\"> Trainable params: </span><span style=\"color: #00af00; text-decoration-color: #00af00\">58,369</span> (228.00 KB)\n",
       "</pre>\n"
      ],
      "text/plain": [
       "\u001b[1m Trainable params: \u001b[0m\u001b[38;5;34m58,369\u001b[0m (228.00 KB)\n"
      ]
     },
     "metadata": {},
     "output_type": "display_data"
    },
    {
     "data": {
      "text/html": [
       "<pre style=\"white-space:pre;overflow-x:auto;line-height:normal;font-family:Menlo,'DejaVu Sans Mono',consolas,'Courier New',monospace\"><span style=\"font-weight: bold\"> Non-trainable params: </span><span style=\"color: #00af00; text-decoration-color: #00af00\">0</span> (0.00 B)\n",
       "</pre>\n"
      ],
      "text/plain": [
       "\u001b[1m Non-trainable params: \u001b[0m\u001b[38;5;34m0\u001b[0m (0.00 B)\n"
      ]
     },
     "metadata": {},
     "output_type": "display_data"
    }
   ],
   "source": [
    "from tensorflow.keras.models import Sequential\n",
    "from tensorflow.keras.layers import LSTM, Dense, Dropout\n",
    "\n",
    "# defining the model using Sequential and a list of layers\n",
    "model = Sequential([\n",
    "    LSTM(64, return_sequences=True, input_shape=(xtrain.shape[1], 1)),\n",
    "    LSTM(64, return_sequences=False),\n",
    "    # LSTM(128, return_sequences=False),\n",
    "    Dense(128, activation=\"relu\"),\n",
    "    Dropout(0.5),\n",
    "    Dense(1)\n",
    "])\n",
    "\n",
    "model.summary()"
   ]
  },
  {
   "cell_type": "code",
   "execution_count": 43,
   "id": "e3394f3f",
   "metadata": {
    "execution": {
     "iopub.execute_input": "2025-05-17T17:50:49.390704Z",
     "iopub.status.busy": "2025-05-17T17:50:49.389594Z",
     "iopub.status.idle": "2025-05-17T17:54:11.708039Z",
     "shell.execute_reply": "2025-05-17T17:54:11.706792Z"
    },
    "papermill": {
     "duration": 202.337023,
     "end_time": "2025-05-17T17:54:11.709989",
     "exception": false,
     "start_time": "2025-05-17T17:50:49.372966",
     "status": "completed"
    },
    "tags": []
   },
   "outputs": [
    {
     "name": "stdout",
     "output_type": "stream",
     "text": [
      "Epoch 1/20\n",
      "\u001b[1m206/206\u001b[0m \u001b[32m━━━━━━━━━━━━━━━━━━━━\u001b[0m\u001b[37m\u001b[0m \u001b[1m15s\u001b[0m 47ms/step - loss: 0.0805 - root_mean_squared_error: 0.2655\n",
      "Epoch 2/20\n",
      "\u001b[1m206/206\u001b[0m \u001b[32m━━━━━━━━━━━━━━━━━━━━\u001b[0m\u001b[37m\u001b[0m \u001b[1m10s\u001b[0m 47ms/step - loss: 0.0193 - root_mean_squared_error: 0.1387\n",
      "Epoch 3/20\n",
      "\u001b[1m206/206\u001b[0m \u001b[32m━━━━━━━━━━━━━━━━━━━━\u001b[0m\u001b[37m\u001b[0m \u001b[1m10s\u001b[0m 49ms/step - loss: 0.0182 - root_mean_squared_error: 0.1348\n",
      "Epoch 4/20\n",
      "\u001b[1m206/206\u001b[0m \u001b[32m━━━━━━━━━━━━━━━━━━━━\u001b[0m\u001b[37m\u001b[0m \u001b[1m10s\u001b[0m 47ms/step - loss: 0.0186 - root_mean_squared_error: 0.1365\n",
      "Epoch 5/20\n",
      "\u001b[1m206/206\u001b[0m \u001b[32m━━━━━━━━━━━━━━━━━━━━\u001b[0m\u001b[37m\u001b[0m \u001b[1m10s\u001b[0m 47ms/step - loss: 0.0174 - root_mean_squared_error: 0.1316\n",
      "Epoch 6/20\n",
      "\u001b[1m206/206\u001b[0m \u001b[32m━━━━━━━━━━━━━━━━━━━━\u001b[0m\u001b[37m\u001b[0m \u001b[1m10s\u001b[0m 47ms/step - loss: 0.0183 - root_mean_squared_error: 0.1350\n",
      "Epoch 7/20\n",
      "\u001b[1m206/206\u001b[0m \u001b[32m━━━━━━━━━━━━━━━━━━━━\u001b[0m\u001b[37m\u001b[0m \u001b[1m10s\u001b[0m 48ms/step - loss: 0.0164 - root_mean_squared_error: 0.1279\n",
      "Epoch 8/20\n",
      "\u001b[1m206/206\u001b[0m \u001b[32m━━━━━━━━━━━━━━━━━━━━\u001b[0m\u001b[37m\u001b[0m \u001b[1m10s\u001b[0m 47ms/step - loss: 0.0168 - root_mean_squared_error: 0.1295\n",
      "Epoch 9/20\n",
      "\u001b[1m206/206\u001b[0m \u001b[32m━━━━━━━━━━━━━━━━━━━━\u001b[0m\u001b[37m\u001b[0m \u001b[1m10s\u001b[0m 47ms/step - loss: 0.0159 - root_mean_squared_error: 0.1262\n",
      "Epoch 10/20\n",
      "\u001b[1m206/206\u001b[0m \u001b[32m━━━━━━━━━━━━━━━━━━━━\u001b[0m\u001b[37m\u001b[0m \u001b[1m10s\u001b[0m 49ms/step - loss: 0.0161 - root_mean_squared_error: 0.1269\n",
      "Epoch 11/20\n",
      "\u001b[1m206/206\u001b[0m \u001b[32m━━━━━━━━━━━━━━━━━━━━\u001b[0m\u001b[37m\u001b[0m \u001b[1m10s\u001b[0m 47ms/step - loss: 0.0165 - root_mean_squared_error: 0.1285\n",
      "Epoch 12/20\n",
      "\u001b[1m206/206\u001b[0m \u001b[32m━━━━━━━━━━━━━━━━━━━━\u001b[0m\u001b[37m\u001b[0m \u001b[1m10s\u001b[0m 47ms/step - loss: 0.0147 - root_mean_squared_error: 0.1210\n",
      "Epoch 13/20\n",
      "\u001b[1m206/206\u001b[0m \u001b[32m━━━━━━━━━━━━━━━━━━━━\u001b[0m\u001b[37m\u001b[0m \u001b[1m10s\u001b[0m 48ms/step - loss: 0.0165 - root_mean_squared_error: 0.1284\n",
      "Epoch 14/20\n",
      "\u001b[1m206/206\u001b[0m \u001b[32m━━━━━━━━━━━━━━━━━━━━\u001b[0m\u001b[37m\u001b[0m \u001b[1m10s\u001b[0m 47ms/step - loss: 0.0160 - root_mean_squared_error: 0.1265\n",
      "Epoch 15/20\n",
      "\u001b[1m206/206\u001b[0m \u001b[32m━━━━━━━━━━━━━━━━━━━━\u001b[0m\u001b[37m\u001b[0m \u001b[1m10s\u001b[0m 48ms/step - loss: 0.0184 - root_mean_squared_error: 0.1354\n",
      "Epoch 16/20\n",
      "\u001b[1m206/206\u001b[0m \u001b[32m━━━━━━━━━━━━━━━━━━━━\u001b[0m\u001b[37m\u001b[0m \u001b[1m10s\u001b[0m 49ms/step - loss: 0.0150 - root_mean_squared_error: 0.1223\n",
      "Epoch 17/20\n",
      "\u001b[1m206/206\u001b[0m \u001b[32m━━━━━━━━━━━━━━━━━━━━\u001b[0m\u001b[37m\u001b[0m \u001b[1m10s\u001b[0m 47ms/step - loss: 0.0160 - root_mean_squared_error: 0.1263\n",
      "Epoch 18/20\n",
      "\u001b[1m206/206\u001b[0m \u001b[32m━━━━━━━━━━━━━━━━━━━━\u001b[0m\u001b[37m\u001b[0m \u001b[1m10s\u001b[0m 47ms/step - loss: 0.0149 - root_mean_squared_error: 0.1220\n",
      "Epoch 19/20\n",
      "\u001b[1m206/206\u001b[0m \u001b[32m━━━━━━━━━━━━━━━━━━━━\u001b[0m\u001b[37m\u001b[0m \u001b[1m10s\u001b[0m 47ms/step - loss: 0.0156 - root_mean_squared_error: 0.1248\n",
      "Epoch 20/20\n",
      "\u001b[1m206/206\u001b[0m \u001b[32m━━━━━━━━━━━━━━━━━━━━\u001b[0m\u001b[37m\u001b[0m \u001b[1m10s\u001b[0m 49ms/step - loss: 0.0147 - root_mean_squared_error: 0.1211\n"
     ]
    },
    {
     "data": {
      "text/plain": [
       "<keras.src.callbacks.history.History at 0x7ae5edbf7890>"
      ]
     },
     "execution_count": 43,
     "metadata": {},
     "output_type": "execute_result"
    }
   ],
   "source": [
    "from tensorflow.keras.metrics import RootMeanSquaredError\n",
    "\n",
    "# Compile the model\n",
    "model.compile(optimizer='adam', loss='mean_squared_error',\n",
    "             metrics=[RootMeanSquaredError()])\n",
    "\n",
    "# Fit the model \n",
    "model.fit(xtrain, ytrain, epochs=20, batch_size=32, verbose=1)"
   ]
  },
  {
   "cell_type": "code",
   "execution_count": 44,
   "id": "d39aa643",
   "metadata": {
    "execution": {
     "iopub.execute_input": "2025-05-17T17:54:11.981878Z",
     "iopub.status.busy": "2025-05-17T17:54:11.981027Z",
     "iopub.status.idle": "2025-05-17T17:54:11.989615Z",
     "shell.execute_reply": "2025-05-17T17:54:11.988554Z"
    },
    "papermill": {
     "duration": 0.145351,
     "end_time": "2025-05-17T17:54:11.991190",
     "exception": false,
     "start_time": "2025-05-17T17:54:11.845839",
     "status": "completed"
    },
    "tags": []
   },
   "outputs": [
    {
     "name": "stdout",
     "output_type": "stream",
     "text": [
      "(350, 60, 1) (350, 1)\n"
     ]
    }
   ],
   "source": [
    "test_data = scaleddata[tlen - 60:]\n",
    "xtest, ytest = [], dataset[tlen:]\n",
    "\n",
    "for i in range(60, len(test_data)):\n",
    "    xtest.append(test_data[i-60:i, 0])\n",
    "    \n",
    "xtest = np.array(xtest)\n",
    "xtest = np.reshape(xtest, (xtest.shape[0], xtest.shape[1], 1))\n",
    "print(xtest.shape, ytest.shape)"
   ]
  },
  {
   "cell_type": "code",
   "execution_count": 45,
   "id": "c4cb5fab",
   "metadata": {
    "execution": {
     "iopub.execute_input": "2025-05-17T17:54:12.257802Z",
     "iopub.status.busy": "2025-05-17T17:54:12.257243Z",
     "iopub.status.idle": "2025-05-17T17:54:13.437149Z",
     "shell.execute_reply": "2025-05-17T17:54:13.436373Z"
    },
    "papermill": {
     "duration": 1.311461,
     "end_time": "2025-05-17T17:54:13.438742",
     "exception": false,
     "start_time": "2025-05-17T17:54:12.127281",
     "status": "completed"
    },
    "tags": []
   },
   "outputs": [
    {
     "name": "stdout",
     "output_type": "stream",
     "text": [
      "\u001b[1m11/11\u001b[0m \u001b[32m━━━━━━━━━━━━━━━━━━━━\u001b[0m\u001b[37m\u001b[0m \u001b[1m1s\u001b[0m 64ms/step\n"
     ]
    }
   ],
   "source": [
    "predictions = model.predict(xtest)\n",
    "predictions = scaler.inverse_transform(predictions)"
   ]
  },
  {
   "cell_type": "code",
   "execution_count": 46,
   "id": "820baec0",
   "metadata": {
    "execution": {
     "iopub.execute_input": "2025-05-17T17:54:13.712193Z",
     "iopub.status.busy": "2025-05-17T17:54:13.711875Z",
     "iopub.status.idle": "2025-05-17T17:54:13.724869Z",
     "shell.execute_reply": "2025-05-17T17:54:13.724028Z"
    },
    "papermill": {
     "duration": 0.152912,
     "end_time": "2025-05-17T17:54:13.726371",
     "exception": false,
     "start_time": "2025-05-17T17:54:13.573459",
     "status": "completed"
    },
    "tags": []
   },
   "outputs": [
    {
     "data": {
      "text/html": [
       "<div>\n",
       "<style scoped>\n",
       "    .dataframe tbody tr th:only-of-type {\n",
       "        vertical-align: middle;\n",
       "    }\n",
       "\n",
       "    .dataframe tbody tr th {\n",
       "        vertical-align: top;\n",
       "    }\n",
       "\n",
       "    .dataframe thead th {\n",
       "        text-align: right;\n",
       "    }\n",
       "</style>\n",
       "<table border=\"1\" class=\"dataframe\">\n",
       "  <thead>\n",
       "    <tr style=\"text-align: right;\">\n",
       "      <th></th>\n",
       "      <th>preds</th>\n",
       "      <th>actual</th>\n",
       "    </tr>\n",
       "  </thead>\n",
       "  <tbody>\n",
       "    <tr>\n",
       "      <th>0</th>\n",
       "      <td>129.538116</td>\n",
       "      <td>127.120003</td>\n",
       "    </tr>\n",
       "    <tr>\n",
       "      <th>1</th>\n",
       "      <td>129.958237</td>\n",
       "      <td>129.460007</td>\n",
       "    </tr>\n",
       "    <tr>\n",
       "      <th>2</th>\n",
       "      <td>131.494049</td>\n",
       "      <td>124.720001</td>\n",
       "    </tr>\n",
       "    <tr>\n",
       "      <th>3</th>\n",
       "      <td>129.980164</td>\n",
       "      <td>127.000000</td>\n",
       "    </tr>\n",
       "    <tr>\n",
       "      <th>4</th>\n",
       "      <td>129.981476</td>\n",
       "      <td>125.959999</td>\n",
       "    </tr>\n",
       "    <tr>\n",
       "      <th>...</th>\n",
       "      <td>...</td>\n",
       "      <td>...</td>\n",
       "    </tr>\n",
       "    <tr>\n",
       "      <th>345</th>\n",
       "      <td>222.408585</td>\n",
       "      <td>228.679993</td>\n",
       "    </tr>\n",
       "    <tr>\n",
       "      <th>346</th>\n",
       "      <td>221.664536</td>\n",
       "      <td>226.649994</td>\n",
       "    </tr>\n",
       "    <tr>\n",
       "      <th>347</th>\n",
       "      <td>220.307861</td>\n",
       "      <td>226.630005</td>\n",
       "    </tr>\n",
       "    <tr>\n",
       "      <th>348</th>\n",
       "      <td>219.846222</td>\n",
       "      <td>222.880005</td>\n",
       "    </tr>\n",
       "    <tr>\n",
       "      <th>349</th>\n",
       "      <td>217.755875</td>\n",
       "      <td>216.580002</td>\n",
       "    </tr>\n",
       "  </tbody>\n",
       "</table>\n",
       "<p>350 rows × 2 columns</p>\n",
       "</div>"
      ],
      "text/plain": [
       "          preds      actual\n",
       "0    129.538116  127.120003\n",
       "1    129.958237  129.460007\n",
       "2    131.494049  124.720001\n",
       "3    129.980164  127.000000\n",
       "4    129.981476  125.959999\n",
       "..          ...         ...\n",
       "345  222.408585  228.679993\n",
       "346  221.664536  226.649994\n",
       "347  220.307861  226.630005\n",
       "348  219.846222  222.880005\n",
       "349  217.755875  216.580002\n",
       "\n",
       "[350 rows x 2 columns]"
      ]
     },
     "execution_count": 46,
     "metadata": {},
     "output_type": "execute_result"
    }
   ],
   "source": [
    "predictions.shape\n",
    "ytest.shape\n",
    "newpred = pd.DataFrame(data={'preds': predictions.flatten(), 'actual': ytest.flatten()})\n",
    "newpred"
   ]
  },
  {
   "cell_type": "code",
   "execution_count": 47,
   "id": "99b30b86",
   "metadata": {
    "execution": {
     "iopub.execute_input": "2025-05-17T17:54:14.003227Z",
     "iopub.status.busy": "2025-05-17T17:54:14.002897Z",
     "iopub.status.idle": "2025-05-17T17:54:14.009890Z",
     "shell.execute_reply": "2025-05-17T17:54:14.008866Z"
    },
    "papermill": {
     "duration": 0.148021,
     "end_time": "2025-05-17T17:54:14.011444",
     "exception": false,
     "start_time": "2025-05-17T17:54:13.863423",
     "status": "completed"
    },
    "tags": []
   },
   "outputs": [
    {
     "data": {
      "text/plain": [
       "3.3877800859723775"
      ]
     },
     "execution_count": 47,
     "metadata": {},
     "output_type": "execute_result"
    }
   ],
   "source": [
    "mae_lstm = mean_absolute_error(newpred.preds, newpred.actual)\n",
    "mae_lstm"
   ]
  },
  {
   "cell_type": "markdown",
   "id": "e1a526f8",
   "metadata": {
    "papermill": {
     "duration": 0.1338,
     "end_time": "2025-05-17T17:54:14.351977",
     "exception": false,
     "start_time": "2025-05-17T17:54:14.218177",
     "status": "completed"
    },
    "tags": []
   },
   "source": [
    "mae for lstm: 6.85138"
   ]
  },
  {
   "cell_type": "code",
   "execution_count": 48,
   "id": "c5285a17",
   "metadata": {
    "execution": {
     "iopub.execute_input": "2025-05-17T17:54:14.627323Z",
     "iopub.status.busy": "2025-05-17T17:54:14.626989Z",
     "iopub.status.idle": "2025-05-17T17:54:14.819394Z",
     "shell.execute_reply": "2025-05-17T17:54:14.818487Z"
    },
    "papermill": {
     "duration": 0.327644,
     "end_time": "2025-05-17T17:54:14.821339",
     "exception": false,
     "start_time": "2025-05-17T17:54:14.493695",
     "status": "completed"
    },
    "tags": []
   },
   "outputs": [
    {
     "name": "stderr",
     "output_type": "stream",
     "text": [
      "/usr/local/lib/python3.11/dist-packages/seaborn/_oldcore.py:1119: FutureWarning: use_inf_as_na option is deprecated and will be removed in a future version. Convert inf values to NaN before operating instead.\n",
      "  with pd.option_context('mode.use_inf_as_na', True):\n",
      "/usr/local/lib/python3.11/dist-packages/seaborn/_oldcore.py:1119: FutureWarning: use_inf_as_na option is deprecated and will be removed in a future version. Convert inf values to NaN before operating instead.\n",
      "  with pd.option_context('mode.use_inf_as_na', True):\n",
      "/usr/local/lib/python3.11/dist-packages/seaborn/_oldcore.py:1119: FutureWarning: use_inf_as_na option is deprecated and will be removed in a future version. Convert inf values to NaN before operating instead.\n",
      "  with pd.option_context('mode.use_inf_as_na', True):\n",
      "/usr/local/lib/python3.11/dist-packages/seaborn/_oldcore.py:1119: FutureWarning: use_inf_as_na option is deprecated and will be removed in a future version. Convert inf values to NaN before operating instead.\n",
      "  with pd.option_context('mode.use_inf_as_na', True):\n"
     ]
    },
    {
     "data": {
      "image/png": "[encoded data removed]",
      "text/plain": [
       "<Figure size 640x480 with 1 Axes>"
      ]
     },
     "metadata": {},
     "output_type": "display_data"
    }
   ],
   "source": [
    "sns.lineplot(data=newpred.preds)\n",
    "sns.lineplot(data=newpred.actual)\n",
    "plt.show()"
   ]
  },
  {
   "cell_type": "code",
   "execution_count": null,
   "id": "fd582ea0",
   "metadata": {
    "papermill": {
     "duration": 0.131136,
     "end_time": "2025-05-17T17:54:15.089910",
     "exception": false,
     "start_time": "2025-05-17T17:54:14.958774",
     "status": "completed"
    },
    "tags": []
   },
   "outputs": [],
   "source": []
  }
 ],
 "metadata": {
  "kaggle": {
   "accelerator": "none",
   "dataSources": [
    {
     "datasetId": 5732938,
     "sourceId": 9435352,
     "sourceType": "datasetVersion"
    },
    {
     "datasetId": 6778668,
     "sourceId": 10905965,
     "sourceType": "datasetVersion"
    }
   ],
   "dockerImageVersionId": 31040,
   "isGpuEnabled": false,
   "isInternetEnabled": true,
   "language": "python",
   "sourceType": "notebook"
  },
  "kernelspec": {
   "display_name": "Python 3",
   "language": "python",
   "name": "python3"
  },
  "language_info": {
   "codemirror_mode": {
    "name": "ipython",
    "version": 3
   },
   "file_extension": ".py",
   "mimetype": "text/x-python",
   "name": "python",
   "nbconvert_exporter": "python",
   "pygments_lexer": "ipython3",
   "version": "3.11.11"
  },
  "papermill": {
   "default_parameters": {},
   "duration": 344.467196,
   "end_time": "2025-05-17T17:54:17.918894",
   "environment_variables": {},
   "exception": null,
   "input_path": "__notebook__.ipynb",
   "output_path": "__notebook__.ipynb",
   "parameters": {},
   "start_time": "2025-05-17T17:48:33.451698",
   "version": "2.6.0"
  }
 },
 "nbformat": 4,
 "nbformat_minor": 5
}
